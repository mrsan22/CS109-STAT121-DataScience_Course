{
 "cells": [
  {
   "cell_type": "markdown",
   "metadata": {},
   "source": [
    "#LinkedIn Graphs and Network Analysis"
   ]
  },
  {
   "cell_type": "markdown",
   "metadata": {},
   "source": [
    "In this lab we will do the following:\n",
    "\n",
    "1. Get a LinkedIn API key <br/>\n",
    "2. Use oauth2 to get an acceess token <br/>\n",
    "3. First we are going to download our own LinkedIn data using the LinkedIn API. <br/>\n",
    "4. Then we are exporting this data as a csv file to be able to import it into Gephi. <br/>\n",
    "5. Before starting Gephi we will do some network analysis directly in python <br/>\n",
    "6. We will analyze our data with the external tool Gephi <br/>"
   ]
  },
  {
   "cell_type": "code",
   "execution_count": 1,
   "metadata": {
    "collapsed": false
   },
   "outputs": [
    {
     "name": "stdout",
     "output_type": "stream",
     "text": [
      "Collecting oauth2\n",
      "  Downloading oauth2-1.5.211.tar.gz\n",
      "Collecting httplib2 (from oauth2)\n",
      "  Downloading httplib2-0.9.1.tar.gz (205kB)\n",
      "Building wheels for collected packages: oauth2, httplib2\n",
      "  Running setup.py bdist_wheel for oauth2\n",
      "  Stored in directory: C:\\Users\\sanjiv\\AppData\\Local\\pip\\Cache\\wheels\\c9\\88\\f7\\b4a9b64cc04af313cef10fcb14e6ada39499578ffd57a065a5\n",
      "  Running setup.py bdist_wheel for httplib2\n",
      "  Stored in directory: C:\\Users\\sanjiv\\AppData\\Local\\pip\\Cache\\wheels\\3b\\9b\\fd\\f416b1427149ee285b78a0978ab7739a5153602137650760fb\n",
      "Successfully built oauth2 httplib2\n",
      "Installing collected packages: httplib2, oauth2\n",
      "Successfully installed httplib2-0.9.1 oauth2-1.5.211\n"
     ]
    },
    {
     "name": "stderr",
     "output_type": "stream",
     "text": [
      "C:\\Python27\\lib\\site-packages\\pip\\_vendor\\requests\\packages\\urllib3\\util\\ssl_.py:90: InsecurePlatformWarning: A true SSLContext object is not available. This prevents urllib3 from configuring SSL appropriately and may cause certain SSL connections to fail. For more information, see https://urllib3.readthedocs.org/en/latest/security.html#insecureplatformwarning.\n",
      "  InsecurePlatformWarning\n",
      "You are using pip version 7.0.1, however version 7.1.0 is available.\n",
      "You should consider upgrading via the 'pip install --upgrade pip' command.\n",
      "C:\\Python27\\lib\\site-packages\\pip\\_vendor\\requests\\packages\\urllib3\\util\\ssl_.py:90: InsecurePlatformWarning: A true SSLContext object is not available. This prevents urllib3 from configuring SSL appropriately and may cause certain SSL connections to fail. For more information, see https://urllib3.readthedocs.org/en/latest/security.html#insecureplatformwarning.\n",
      "  InsecurePlatformWarning\n"
     ]
    },
    {
     "name": "stdout",
     "output_type": "stream",
     "text": [
      "Collecting unidecode\n",
      "  Downloading Unidecode-0.04.18.tar.gz (206kB)\n",
      "Building wheels for collected packages: unidecode\n",
      "  Running setup.py bdist_wheel for unidecode\n",
      "  Stored in directory: C:\\Users\\sanjiv\\AppData\\Local\\pip\\Cache\\wheels\\a8\\85\\b6\\71cbccded974d5a8e15cbe7d22066d87f34329d98c7ed5d786\n",
      "Successfully built unidecode\n",
      "Installing collected packages: unidecode\n",
      "Successfully installed unidecode-0.4.18\n"
     ]
    },
    {
     "name": "stderr",
     "output_type": "stream",
     "text": [
      "You are using pip version 7.0.1, however version 7.1.0 is available.\n",
      "You should consider upgrading via the 'pip install --upgrade pip' command.\n",
      "C:\\Python27\\lib\\site-packages\\pip\\_vendor\\requests\\packages\\urllib3\\util\\ssl_.py:90: InsecurePlatformWarning: A true SSLContext object is not available. This prevents urllib3 from configuring SSL appropriately and may cause certain SSL connections to fail. For more information, see https://urllib3.readthedocs.org/en/latest/security.html#insecureplatformwarning.\n",
      "  InsecurePlatformWarning\n"
     ]
    }
   ],
   "source": [
    "!pip install oauth2\n",
    "!pip install unidecode"
   ]
  },
  {
   "cell_type": "code",
   "execution_count": 2,
   "metadata": {
    "collapsed": true
   },
   "outputs": [],
   "source": [
    "%matplotlib inline\n",
    "from collections import defaultdict\n",
    "import json\n",
    "\n",
    "import numpy as np\n",
    "import scipy as sp\n",
    "import matplotlib.pyplot as plt\n",
    "import pandas as pd\n",
    "\n",
    "from matplotlib import rcParams\n",
    "import matplotlib.cm as cm\n",
    "import matplotlib as mpl\n",
    "\n",
    "#colorbrewer2 Dark2 qualitative color table\n",
    "dark2_colors = [(0.10588235294117647, 0.6196078431372549, 0.4666666666666667),\n",
    "                (0.8509803921568627, 0.37254901960784315, 0.00784313725490196),\n",
    "                (0.4588235294117647, 0.4392156862745098, 0.7019607843137254),\n",
    "                (0.9058823529411765, 0.1607843137254902, 0.5411764705882353),\n",
    "                (0.4, 0.6509803921568628, 0.11764705882352941),\n",
    "                (0.9019607843137255, 0.6705882352941176, 0.00784313725490196),\n",
    "                (0.6509803921568628, 0.4627450980392157, 0.11372549019607843)]\n",
    "\n",
    "rcParams['figure.figsize'] = (10, 6)\n",
    "rcParams['figure.dpi'] = 150\n",
    "rcParams['axes.color_cycle'] = dark2_colors\n",
    "rcParams['lines.linewidth'] = 2\n",
    "rcParams['axes.facecolor'] = 'white'\n",
    "rcParams['font.size'] = 14\n",
    "rcParams['patch.edgecolor'] = 'white'\n",
    "rcParams['patch.facecolor'] = dark2_colors[0]\n",
    "rcParams['font.family'] = 'StixGeneral'\n",
    "\n",
    "\n",
    "def remove_border(axes=None, top=False, right=False, left=True, bottom=True):\n",
    "    \"\"\"\n",
    "    Minimize chartjunk by stripping out unnecesasry plot borders and axis ticks\n",
    "    \n",
    "    The top/right/left/bottom keywords toggle whether the corresponding plot border is drawn\n",
    "    \"\"\"\n",
    "    ax = axes or plt.gca()\n",
    "    ax.spines['top'].set_visible(top)\n",
    "    ax.spines['right'].set_visible(right)\n",
    "    ax.spines['left'].set_visible(left)\n",
    "    ax.spines['bottom'].set_visible(bottom)\n",
    "    \n",
    "    #turn off all ticks\n",
    "    ax.yaxis.set_ticks_position('none')\n",
    "    ax.xaxis.set_ticks_position('none')\n",
    "    \n",
    "    #now re-enable visibles\n",
    "    if top:\n",
    "        ax.xaxis.tick_top()\n",
    "    if bottom:\n",
    "        ax.xaxis.tick_bottom()\n",
    "    if left:\n",
    "        ax.yaxis.tick_left()\n",
    "    if right:\n",
    "        ax.yaxis.tick_right()\n",
    "        \n",
    "pd.set_option('display.width', 500)\n",
    "pd.set_option('display.max_columns', 100)"
   ]
  },
  {
   "cell_type": "markdown",
   "metadata": {},
   "source": [
    "##1. Get API key"
   ]
  },
  {
   "cell_type": "code",
   "execution_count": 17,
   "metadata": {
    "collapsed": true
   },
   "outputs": [],
   "source": [
    "api_key = '77i6zo15tp47nk'\n",
    "secret_key  = 'uDSORbQfGbfwr9E1'"
   ]
  },
  {
   "cell_type": "markdown",
   "metadata": {},
   "source": [
    "##2. Get Access Token"
   ]
  },
  {
   "cell_type": "code",
   "execution_count": 18,
   "metadata": {
    "collapsed": false
   },
   "outputs": [],
   "source": [
    "# LinkedIn uses OAuth 2.0 for online verification.\n",
    "\n",
    "import oauth2 as oauth\n",
    "import urlparse\n",
    "        \n",
    "def request_token(consumer):\n",
    "    client = oauth.Client(consumer)\n",
    "    request_token_url = 'https://api.linkedin.com/uas/oauth/requestToken?scope=r_network'\n",
    "    resp, content = client.request(request_token_url, \"POST\")\n",
    "    if resp['status'] != '200':\n",
    "        raise Exception(\"Invalid response %s.\" % resp['status'])\n",
    "    request_token = dict(urlparse.parse_qsl(content))\n",
    "    return request_token"
   ]
  },
  {
   "cell_type": "code",
   "execution_count": 19,
   "metadata": {
    "collapsed": true
   },
   "outputs": [],
   "source": [
    "def authorize(request_token):\n",
    "    authorize_url ='https://api.linkedin.com/uas/oauth/authorize'\n",
    "    print \"Go to the following link in your browser:\"\n",
    "    print \"%s?oauth_token=%s\" % (authorize_url, request_token['oauth_token'])\n",
    "    print\n",
    "    accepted = 'n'\n",
    "    while accepted.lower() == 'n':\n",
    "        accepted = raw_input('Have you authorized me? (y/n) ')\n",
    "    oauth_verifier = raw_input('What is the PIN? ')\n",
    "    return oauth_verifier"
   ]
  },
  {
   "cell_type": "code",
   "execution_count": 20,
   "metadata": {
    "collapsed": true
   },
   "outputs": [],
   "source": [
    "def access(consumer, request_token, oauth_verifier):\n",
    "    access_token_url = 'https://api.linkedin.com/uas/oauth/accessToken'\n",
    "    token = oauth.Token(request_token['oauth_token'], request_token['oauth_token_secret'])\n",
    "    token.set_verifier(oauth_verifier)\n",
    "    client = oauth.Client(consumer, token)\n",
    "    resp, content = client.request(access_token_url, \"POST\")\n",
    "    access_token = dict(urlparse.parse_qsl(content))\n",
    "    return access_token"
   ]
  },
  {
   "cell_type": "code",
   "execution_count": 21,
   "metadata": {
    "collapsed": false
   },
   "outputs": [
    {
     "ename": "Exception",
     "evalue": "Invalid response 403.",
     "output_type": "error",
     "traceback": [
      "\u001b[1;31m---------------------------------------------------------------------------\u001b[0m",
      "\u001b[1;31mException\u001b[0m                                 Traceback (most recent call last)",
      "\u001b[1;32m<ipython-input-21-c1997bc6e556>\u001b[0m in \u001b[0;36m<module>\u001b[1;34m()\u001b[0m\n\u001b[0;32m      1\u001b[0m \u001b[0mconsumer\u001b[0m \u001b[1;33m=\u001b[0m \u001b[0moauth\u001b[0m\u001b[1;33m.\u001b[0m\u001b[0mConsumer\u001b[0m\u001b[1;33m(\u001b[0m\u001b[0mapi_key\u001b[0m\u001b[1;33m,\u001b[0m \u001b[0msecret_key\u001b[0m\u001b[1;33m)\u001b[0m\u001b[1;33m\u001b[0m\u001b[0m\n\u001b[0;32m      2\u001b[0m \u001b[1;33m\u001b[0m\u001b[0m\n\u001b[1;32m----> 3\u001b[1;33m \u001b[0mr_token\u001b[0m \u001b[1;33m=\u001b[0m \u001b[0mrequest_token\u001b[0m\u001b[1;33m(\u001b[0m\u001b[0mconsumer\u001b[0m\u001b[1;33m)\u001b[0m\u001b[1;33m\u001b[0m\u001b[0m\n\u001b[0m\u001b[0;32m      4\u001b[0m \u001b[1;32mprint\u001b[0m \u001b[1;34m\"Request Token: oauth_token: %s, oauth_token_secret: %s\"\u001b[0m \u001b[1;33m%\u001b[0m \u001b[1;33m(\u001b[0m\u001b[0mr_token\u001b[0m\u001b[1;33m[\u001b[0m\u001b[1;34m'oauth_token'\u001b[0m\u001b[1;33m]\u001b[0m\u001b[1;33m,\u001b[0m \u001b[0mr_token\u001b[0m\u001b[1;33m[\u001b[0m\u001b[1;34m'oauth_token_secret'\u001b[0m\u001b[1;33m]\u001b[0m\u001b[1;33m)\u001b[0m\u001b[1;33m\u001b[0m\u001b[0m\n\u001b[0;32m      5\u001b[0m \u001b[1;33m\u001b[0m\u001b[0m\n",
      "\u001b[1;32m<ipython-input-18-9b9476d35086>\u001b[0m in \u001b[0;36mrequest_token\u001b[1;34m(consumer)\u001b[0m\n\u001b[0;32m      9\u001b[0m     \u001b[0mresp\u001b[0m\u001b[1;33m,\u001b[0m \u001b[0mcontent\u001b[0m \u001b[1;33m=\u001b[0m \u001b[0mclient\u001b[0m\u001b[1;33m.\u001b[0m\u001b[0mrequest\u001b[0m\u001b[1;33m(\u001b[0m\u001b[0mrequest_token_url\u001b[0m\u001b[1;33m,\u001b[0m \u001b[1;34m\"POST\"\u001b[0m\u001b[1;33m)\u001b[0m\u001b[1;33m\u001b[0m\u001b[0m\n\u001b[0;32m     10\u001b[0m     \u001b[1;32mif\u001b[0m \u001b[0mresp\u001b[0m\u001b[1;33m[\u001b[0m\u001b[1;34m'status'\u001b[0m\u001b[1;33m]\u001b[0m \u001b[1;33m!=\u001b[0m \u001b[1;34m'200'\u001b[0m\u001b[1;33m:\u001b[0m\u001b[1;33m\u001b[0m\u001b[0m\n\u001b[1;32m---> 11\u001b[1;33m         \u001b[1;32mraise\u001b[0m \u001b[0mException\u001b[0m\u001b[1;33m(\u001b[0m\u001b[1;34m\"Invalid response %s.\"\u001b[0m \u001b[1;33m%\u001b[0m \u001b[0mresp\u001b[0m\u001b[1;33m[\u001b[0m\u001b[1;34m'status'\u001b[0m\u001b[1;33m]\u001b[0m\u001b[1;33m)\u001b[0m\u001b[1;33m\u001b[0m\u001b[0m\n\u001b[0m\u001b[0;32m     12\u001b[0m     \u001b[0mrequest_token\u001b[0m \u001b[1;33m=\u001b[0m \u001b[0mdict\u001b[0m\u001b[1;33m(\u001b[0m\u001b[0murlparse\u001b[0m\u001b[1;33m.\u001b[0m\u001b[0mparse_qsl\u001b[0m\u001b[1;33m(\u001b[0m\u001b[0mcontent\u001b[0m\u001b[1;33m)\u001b[0m\u001b[1;33m)\u001b[0m\u001b[1;33m\u001b[0m\u001b[0m\n\u001b[0;32m     13\u001b[0m     \u001b[1;32mreturn\u001b[0m \u001b[0mrequest_token\u001b[0m\u001b[1;33m\u001b[0m\u001b[0m\n",
      "\u001b[1;31mException\u001b[0m: Invalid response 403."
     ]
    }
   ],
   "source": [
    "consumer = oauth.Consumer(api_key, secret_key)\n",
    "\n",
    "r_token = request_token(consumer)\n",
    "print \"Request Token: oauth_token: %s, oauth_token_secret: %s\" % (r_token['oauth_token'], r_token['oauth_token_secret'])\n",
    "\n",
    "oauth_verifier = authorize(r_token)\n",
    "\n",
    "a_token = access(consumer, r_token, oauth_verifier)\n",
    "print a_token\n",
    "print \"Access Token: oauth_token = %s, oauth_token_secret = %s\" % (a_token['oauth_token'], a_token['oauth_token_secret'])\n",
    "print \"You may now access protected resources using the access tokens above.\""
   ]
  },
  {
   "cell_type": "code",
   "execution_count": 22,
   "metadata": {
    "collapsed": false
   },
   "outputs": [],
   "source": [
    "client = oauth.Client(consumer)"
   ]
  },
  {
   "cell_type": "code",
   "execution_count": 26,
   "metadata": {
    "collapsed": false
   },
   "outputs": [],
   "source": [
    "request_token_url = 'https://api.linkedin.com/uas/oauth/requestToken?scope=r_network'\n",
    "resp, content = client.request(request_token_url, \"POST\")"
   ]
  },
  {
   "cell_type": "code",
   "execution_count": 27,
   "metadata": {
    "collapsed": false
   },
   "outputs": [
    {
     "data": {
      "text/plain": [
       "{'-content-encoding': 'gzip',\n",
       " 'connection': 'keep-alive',\n",
       " 'content-length': '54',\n",
       " 'content-type': 'application/x-www-form-urlencoded;charset=UTF-8',\n",
       " 'date': 'Sat, 25 Jul 2015 05:32:47 GMT',\n",
       " 'server': 'Apache-Coyote/1.1',\n",
       " 'set-cookie': 'lidc=\"b=VB19:g=289:u=1:i=1437802368:t=1437888768:s=AQFhSMoaLOwv5qJ0ryXm-49dgtKaU2TQ\"; Expires=Sun, 26 Jul 2015 05:32:48 GMT; domain=.linkedin.com; Path=/',\n",
       " 'status': '403',\n",
       " 'transfer-encoding': 'chunked',\n",
       " 'vary': 'Accept-Encoding',\n",
       " 'www-authenticate': 'OAuth realm=\"https%3A%2F%2Fapi.linkedin.com\", oauth_problem=\"Scope%20NOT_AUTHORIZED%20%3A%20r_network\"',\n",
       " 'x-fs-uuid': '9ceb71d4a219f41380b78a6abb2a0000',\n",
       " 'x-li-fabric': 'prod-lva1',\n",
       " 'x-li-pop': 'prod-lva1',\n",
       " 'x-li-uuid': 'nOtx1KIZ9BOAt4pquyoAAA=='}"
      ]
     },
     "execution_count": 27,
     "metadata": {},
     "output_type": "execute_result"
    }
   ],
   "source": [
    "resp"
   ]
  },
  {
   "cell_type": "code",
   "execution_count": 28,
   "metadata": {
    "collapsed": false
   },
   "outputs": [
    {
     "data": {
      "text/plain": [
       "'oauth_problem=Scope%20NOT_AUTHORIZED%20%3A%20r_network'"
      ]
     },
     "execution_count": 28,
     "metadata": {},
     "output_type": "execute_result"
    }
   ],
   "source": [
    "content"
   ]
  },
  {
   "cell_type": "code",
   "execution_count": null,
   "metadata": {
    "collapsed": true
   },
   "outputs": [],
   "source": []
  }
 ],
 "metadata": {
  "kernelspec": {
   "display_name": "Python 2",
   "language": "python",
   "name": "python2"
  },
  "language_info": {
   "codemirror_mode": {
    "name": "ipython",
    "version": 2
   },
   "file_extension": ".py",
   "mimetype": "text/x-python",
   "name": "python",
   "nbconvert_exporter": "python",
   "pygments_lexer": "ipython2",
   "version": "2.7.9"
  }
 },
 "nbformat": 4,
 "nbformat_minor": 0
}
