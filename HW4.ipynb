{
 "cells": [
  {
   "cell_type": "markdown",
   "metadata": {},
   "source": [
    "# Recommendation system for restaurants using collaborative filtering (CF)"
   ]
  },
  {
   "cell_type": "code",
   "execution_count": 2,
   "metadata": {
    "collapsed": true
   },
   "outputs": [],
   "source": [
    "%matplotlib inline\n",
    "from collections import defaultdict\n",
    "import json\n",
    "\n",
    "import numpy as np\n",
    "import matplotlib.pyplot as plt\n",
    "import pandas as pd\n",
    "from scipy.special import erf\n",
    "\n",
    "from matplotlib import rcParams\n",
    "import matplotlib.cm as cm\n",
    "import matplotlib as mpl\n",
    "\n",
    "#colorbrewer2 Dark2 qualitative color table\n",
    "dark2_colors = [(0.10588235294117647, 0.6196078431372549, 0.4666666666666667),\n",
    "                (0.8509803921568627, 0.37254901960784315, 0.00784313725490196),\n",
    "                (0.4588235294117647, 0.4392156862745098, 0.7019607843137254),\n",
    "                (0.9058823529411765, 0.1607843137254902, 0.5411764705882353),\n",
    "                (0.4, 0.6509803921568628, 0.11764705882352941),\n",
    "                (0.9019607843137255, 0.6705882352941176, 0.00784313725490196),\n",
    "                (0.6509803921568628, 0.4627450980392157, 0.11372549019607843)]\n",
    "\n",
    "rcParams['figure.figsize'] = (10, 6)\n",
    "rcParams['figure.dpi'] = 150\n",
    "rcParams['axes.color_cycle'] = dark2_colors\n",
    "rcParams['lines.linewidth'] = 2\n",
    "rcParams['axes.facecolor'] = 'white'\n",
    "rcParams['font.size'] = 14\n",
    "rcParams['patch.edgecolor'] = 'white'\n",
    "rcParams['patch.facecolor'] = dark2_colors[0]\n",
    "rcParams['font.family'] = 'StixGeneral'\n",
    "\n",
    "\n",
    "def remove_border(axes=None, top=False, right=False, left=True, bottom=True):\n",
    "    \"\"\"\n",
    "    Minimize chartjunk by stripping out unnecesasry plot borders and axis ticks\n",
    "    \n",
    "    The top/right/left/bottom keywords toggle whether the corresponding plot border is drawn\n",
    "    \"\"\"\n",
    "    ax = axes or plt.gca()\n",
    "    ax.spines['top'].set_visible(top)\n",
    "    ax.spines['right'].set_visible(right)\n",
    "    ax.spines['left'].set_visible(left)\n",
    "    ax.spines['bottom'].set_visible(bottom)\n",
    "    \n",
    "    #turn off all ticks\n",
    "    ax.yaxis.set_ticks_position('none')\n",
    "    ax.xaxis.set_ticks_position('none')\n",
    "    \n",
    "    #now re-enable visibles\n",
    "    if top:\n",
    "        ax.xaxis.tick_top()\n",
    "    if bottom:\n",
    "        ax.xaxis.tick_bottom()\n",
    "    if left:\n",
    "        ax.yaxis.tick_left()\n",
    "    if right:\n",
    "        ax.yaxis.tick_right()\n",
    "        \n",
    "pd.set_option('display.width', 500)\n",
    "pd.set_option('display.max_columns', 100)"
   ]
  },
  {
   "cell_type": "markdown",
   "metadata": {},
   "source": [
    "###User and Item based approaches\n",
    "Original approaches to neighborhood based CF used user-user models. By this we mean that rating estimates are made from recorded ratings of like minded users. However, since most users tend to rate very few items, this is usually a losing proposition for explicit-rating based recommenders. Thus, most neighborhood based systems such as Amazon these days rely on item-item approaches. In these methods, a rating is estimated by other ratings made by the user on \"similar\" or \"nearby\" items: we have a K-Nearest-Neighbors algorithm, in effect."
   ]
  },
  {
   "cell_type": "markdown",
   "metadata": {
    "collapsed": true
   },
   "source": [
    "##Outline of this Homework\n",
    "The outline of this homework is as follows:\n",
    "\n",
    "Create a database of item-item similarities. Use this to implement a neighborhood-based CF recommender that can answer simple questions like \"give me more restaurants like this one\". This part of the homework assumes that the similaties calculated make good \"global recommendations\".\n",
    "\n",
    "In the second part, we go one step further and attempt to predict the rating that a user will give an item they have not seen before. This requires that we find the restaurants that this user would rate as similar (not just those which are globally similar).\n",
    "\n",
    "In the third part, we implement a factor-based CF recommender using a Bayesian model. While quite a bit more complex, this allows us to pool information both about similar users and about similar restaurants.\n",
    "\n",
    "We will scale up our system by creating a recommender on the lines of Q1 and Q2 that works on the entire data set. We will use the map-reduce paradigm to split the computation over multiple machines.\n",
    "\n",
    "You will start simply, by working on a subset of the restaurant data before generalizing to the entire data set in Problem 4. The complete data set has 150,000 reviews, but we shall start with just about 7000. You will create this smaller set by taking all the users who had rated more than 60 restaurants, and all the businesses which had greater than 150 reviews from the larger data set. This is not a random set: indeed we use it as it a computationally tractable set that is a bit less sparse than the entire data set."
   ]
  },
  {
   "cell_type": "markdown",
   "metadata": {},
   "source": [
    "The data set has been extracted from the Yelp Phoenix restaurants dataset."
   ]
  },
  {
   "cell_type": "code",
   "execution_count": 3,
   "metadata": {
    "collapsed": false
   },
   "outputs": [
    {
     "data": {
      "text/html": [
       "<div style=\"max-height:1000px;max-width:1500px;overflow:auto;\">\n",
       "<table border=\"1\" class=\"dataframe\">\n",
       "  <thead>\n",
       "    <tr style=\"text-align: right;\">\n",
       "      <th></th>\n",
       "      <th>user_id</th>\n",
       "      <th>business_id</th>\n",
       "      <th>date</th>\n",
       "      <th>review_id</th>\n",
       "      <th>stars</th>\n",
       "      <th>usefulvotes_review</th>\n",
       "      <th>user_name</th>\n",
       "      <th>categories</th>\n",
       "      <th>biz_name</th>\n",
       "      <th>latitude</th>\n",
       "      <th>longitude</th>\n",
       "      <th>business_avg</th>\n",
       "      <th>business_review_count</th>\n",
       "      <th>user_avg</th>\n",
       "      <th>user_review_count</th>\n",
       "    </tr>\n",
       "  </thead>\n",
       "  <tbody>\n",
       "    <tr>\n",
       "      <th>0</th>\n",
       "      <td> rLtl8ZkDX5vH5nAx9C3q5Q</td>\n",
       "      <td> 9yKzy9PApeiPPOUJEtnvkg</td>\n",
       "      <td> 2011-01-26 00:00:00</td>\n",
       "      <td> fWKvX83p0-ka4JS3dc6E5A</td>\n",
       "      <td> 5</td>\n",
       "      <td> 5</td>\n",
       "      <td>    Jason</td>\n",
       "      <td> [Breakfast &amp; Brunch, Restaurants]</td>\n",
       "      <td> Morning Glory Cafe</td>\n",
       "      <td> 33.390792</td>\n",
       "      <td>-112.012504</td>\n",
       "      <td> 3.87156</td>\n",
       "      <td> 109</td>\n",
       "      <td> 3.796954</td>\n",
       "      <td> 197</td>\n",
       "    </tr>\n",
       "    <tr>\n",
       "      <th>1</th>\n",
       "      <td> SBbftLzfYYKItOMFwOTIJg</td>\n",
       "      <td> 9yKzy9PApeiPPOUJEtnvkg</td>\n",
       "      <td> 2008-05-04 00:00:00</td>\n",
       "      <td> DASdFe-g0BgfN9J2tanStg</td>\n",
       "      <td> 5</td>\n",
       "      <td> 1</td>\n",
       "      <td> Jennifer</td>\n",
       "      <td> [Breakfast &amp; Brunch, Restaurants]</td>\n",
       "      <td> Morning Glory Cafe</td>\n",
       "      <td> 33.390792</td>\n",
       "      <td>-112.012504</td>\n",
       "      <td> 3.87156</td>\n",
       "      <td> 109</td>\n",
       "      <td> 3.473684</td>\n",
       "      <td>  57</td>\n",
       "    </tr>\n",
       "  </tbody>\n",
       "</table>\n",
       "</div>"
      ],
      "text/plain": [
       "                  user_id             business_id                 date               review_id  stars  usefulvotes_review user_name                         categories            biz_name   latitude   longitude  business_avg  business_review_count  user_avg  user_review_count\n",
       "0  rLtl8ZkDX5vH5nAx9C3q5Q  9yKzy9PApeiPPOUJEtnvkg  2011-01-26 00:00:00  fWKvX83p0-ka4JS3dc6E5A      5                   5     Jason  [Breakfast & Brunch, Restaurants]  Morning Glory Cafe  33.390792 -112.012504       3.87156                    109  3.796954                197\n",
       "1  SBbftLzfYYKItOMFwOTIJg  9yKzy9PApeiPPOUJEtnvkg  2008-05-04 00:00:00  DASdFe-g0BgfN9J2tanStg      5                   1  Jennifer  [Breakfast & Brunch, Restaurants]  Morning Glory Cafe  33.390792 -112.012504       3.87156                    109  3.473684                 57"
      ]
     },
     "execution_count": 3,
     "metadata": {},
     "output_type": "execute_result"
    }
   ],
   "source": [
    "full_yelp_ds=pd.read_csv('bigdf.csv')\n",
    "full_yelp_ds.head(2)"
   ]
  },
  {
   "cell_type": "code",
   "execution_count": null,
   "metadata": {
    "collapsed": false
   },
   "outputs": [],
   "source": []
  },
  {
   "cell_type": "code",
   "execution_count": null,
   "metadata": {
    "collapsed": true
   },
   "outputs": [],
   "source": []
  },
  {
   "cell_type": "code",
   "execution_count": 4,
   "metadata": {
    "collapsed": false
   },
   "outputs": [],
   "source": [
    "full_yelp_group = full_yelp_ds.groupby('user_id')"
   ]
  },
  {
   "cell_type": "code",
   "execution_count": 5,
   "metadata": {
    "collapsed": false
   },
   "outputs": [
    {
     "name": "stdout",
     "output_type": "stream",
     "text": [
      "key --65q1FpAL_UQtVZ2PTGew ---> value                        user_id             business_id                 date               review_id  stars  usefulvotes_review user_name                                         categories                                biz_name   latitude   longitude  business_avg  business_review_count  user_avg  user_review_count\n",
      "239     --65q1FpAL_UQtVZ2PTGew  r3r_bAfa6pZKIhQB82FizQ  2009-08-06 00:00:00  1E2xMa79MzmDobQeDXMqog      3                   1     Nader                             [Restaurants, Italian]                                PastaBAR  33.455863 -112.072167      3.358491                    106  3.953704                108\n",
      "429     --65q1FpAL_UQtVZ2PTGew  eIxSLxzIlfExI6vgAbn2JA  2010-04-05 00:00:00  cr-8VthsH_j8yFTak1t7NQ      5                   2     Nader   [Burgers, Hot Dogs, American (New), Restaurants]                Lobbys Beef Burgers Dogs  33.394770 -111.908894      4.283237                    173  3.953704                108\n",
      "3497    --65q1FpAL_UQtVZ2PTGew  yGmdo1ENajB98iryHGoWFw  2010-10-07 00:00:00  f8iB_xmmMBjVbLPQL1v7kA      4                   1     Nader  [Bars, Dive Bars, Burgers, Nightlife, Sports B...                Monkey Pants Bar & Grill  33.394126 -111.939464      3.571429                     70  3.953704                108\n",
      "5162    --65q1FpAL_UQtVZ2PTGew  -sC66z4SO3tR7nFCjfQwuQ  2010-04-04 00:00:00  Xhzo4VoHtjyTMJ8tt6TxMw      4                   0     Nader                             [Mexican, Restaurants]                       Gallo Blanco Cafe  33.491120 -112.079081      4.145957                    507  3.953704                108\n",
      "7600    --65q1FpAL_UQtVZ2PTGew  bzDs0u8I-z231QVdIQWkrA  2010-07-22 00:00:00  lk6_3yIyphQafvZrtMC5tA      4                   2     Nader                             [Mexican, Restaurants]                   Los Reyes de la Torta  33.570813 -112.065737      4.247967                    246  3.953704                108\n",
      "8671    --65q1FpAL_UQtVZ2PTGew  fm4X0SV2Kofj-57ZfHiZ_A  2011-04-03 00:00:00  _9deQuRIvRzU31T1e12C2w      4                  15     Nader   [Food, Ethnic Food, Specialty Food, Restaurants]                          Caffe Sarajevo  33.552877 -112.132431      4.458333                     48  3.953704                108\n",
      "8726    --65q1FpAL_UQtVZ2PTGew  pSiR8m18iick2D7TFdmb-Q  2010-07-24 00:00:00  foTy-zMgAjFzLjWXzFe-qg      4                   0     Nader                             [Chinese, Restaurants]                            Wong's Place  33.378302 -111.906522      3.611111                     54  3.953704                108\n",
      "10053   --65q1FpAL_UQtVZ2PTGew  3n9mSKySEv3G03YjcU-YOQ  2010-04-04 00:00:00  _KpbnvLy6CBRLsbjvUffIw      5                   0     Nader  [Wine Bars, Bars, Restaurants, Nightlife, Ital...                         Postino Central  33.512770 -112.074012      4.328804                    368  3.953704                108\n",
      "10448   --65q1FpAL_UQtVZ2PTGew  IuAPYzf3NSyfyXYgT46YVA  2010-11-08 00:00:00  hiVOOp10wld7yIYE6dtrzw      5                   8     Nader          [Gastropubs, American (New), Restaurants]                                     FnB  33.497828 -111.927267      4.400000                    190  3.953704                108\n",
      "10733   --65q1FpAL_UQtVZ2PTGew  nRO4tRwimU12hg7Cnz__iA  2011-03-08 00:00:00  lvxMajmx9Ujb9_HLojRD5A      5                  12     Nader                [Greek, Mediterranean, Restaurants]                        Eden's Grill Inn  33.612882 -111.977806      4.466667                     75  3.953704                108\n",
      "12219   --65q1FpAL_UQtVZ2PTGew  WNy1uzcmm_UHmTyR--o5IA  2010-07-13 00:00:00  wJQLFbFej5hjOv2cwxSEBw      5                   4     Nader      [Pubs, Bars, Nightlife, British, Restaurants]                   Cornish Pasty Company  33.422728 -111.951494      4.400735                    544  3.953704                108\n",
      "12802   --65q1FpAL_UQtVZ2PTGew  qXQ3ZBdwI3GlbR5-eYWqNA  2010-04-08 00:00:00  k0VUogjolkltcefCzLI2TQ      4                   0     Nader                [Greek, Mediterranean, Restaurants]            Saba's Mediterranean Cuisine  33.638907 -111.979435      3.953488                     43  3.953704                108\n",
      "13210   --65q1FpAL_UQtVZ2PTGew  18TUn9oiW0k0yB6lheiOvw  2010-10-27 00:00:00  jcyyyro5x8eQZ8tMEw6NNQ      3                   2     Nader                         [Steakhouses, Restaurants]                             TEXAZ Grill  33.523984 -112.046980      3.765823                    158  3.953704                108\n",
      "15936   --65q1FpAL_UQtVZ2PTGew  M6fjHpkL9IRI-nI0BattRw  2010-08-02 00:00:00  aP9xSAEqUMmTwTxuQVHMOw      4                   1     Nader                      [American (New), Restaurants]  The Main Ingredient Ale House And Café  33.474605 -112.065107      4.008929                    224  3.953704                108\n",
      "16163   --65q1FpAL_UQtVZ2PTGew  5VMajxduxfLPSyQkVFKESg  2010-07-14 00:00:00  6uJNUvZ-7CbysyCQG9qalg      5                   0     Nader                            [Barbeque, Restaurants]                          Joe's Real BBQ  33.355044 -111.789531      4.018072                    332  3.953704                108\n",
      "23409   --65q1FpAL_UQtVZ2PTGew  r-a-Cn9hxdEnYTtVTB5bMQ  2010-08-03 00:00:00  vhzntcVEkAer_AYzkLs4Gw      4                   2     Nader     [Bars, American (New), Nightlife, Restaurants]                               The Grind  33.509777 -111.995740      3.617512                    217  3.953704                108\n",
      "24979   --65q1FpAL_UQtVZ2PTGew  6oRAC4uyJCsJl1X0WZpVSA  2010-10-01 00:00:00  J-SHxR3N_1nmoILqa1BX_w      4                   2     Nader                      [Middle Eastern, Restaurants]                               Haji-Baba  33.414345 -111.913031      4.319502                    241  3.953704                108\n",
      "25581   --65q1FpAL_UQtVZ2PTGew  1NZLxU5WvB5roPFzneAlLw  2010-08-17 00:00:00  YiAOEpqlxfa3Lw5cipOR6g      3                   3     Nader                             [Mexican, Restaurants]                             Barrio Café  33.478794 -112.047809      3.931319                    364  3.953704                108\n",
      "25968   --65q1FpAL_UQtVZ2PTGew  zp713qNhx8d9KCJJnrw1xA  2010-08-19 00:00:00  CLLwb55vjDbMhjPcuktB5g      4                   3     Nader                             [Mexican, Restaurants]            La Condesa Gourmet Taco Shop  33.469132 -112.047512      4.224561                    285  3.953704                108\n",
      "26505   --65q1FpAL_UQtVZ2PTGew  K8pM6qQdYu5h6buRE1-_sw  2010-04-12 00:00:00  EfD8L3e7RJEdQu2dnZBDrg      4                   2     Nader                 [Soul Food, Southern, Restaurants]               Lo-Lo's Chicken & Waffles  33.435455 -112.073914      4.288095                    420  3.953704                108\n",
      "26907   --65q1FpAL_UQtVZ2PTGew  FUI-hWH_bpis7AKZTWenUQ  2011-02-01 00:00:00  2mA1HcDPbNA0HPdmFfmvcw      2                   8     Nader                      [Latin American, Restaurants]                         Ticoz Resto-Bar  33.511674 -112.065319      3.861210                    281  3.953704                108\n",
      "27366   --65q1FpAL_UQtVZ2PTGew  jJhNOhuGpIsJX5SEUFFWYQ  2010-04-29 00:00:00  9d4c_mhY1Nu73jjUB60bEA      4                   2     Nader                            [Hot Dogs, Restaurants]                          Ted's Hot Dogs  33.407163 -111.909649      4.049327                    223  3.953704                108\n",
      "29585   --65q1FpAL_UQtVZ2PTGew  V1nEpIRmEa1768oj_tuxeQ  2011-03-26 00:00:00  nhYfZIeB2AURMOxqesf6vw      2                  12     Nader          [Italian, Pizza, Sandwiches, Restaurants]                                    Cibo  33.454848 -112.080071      4.325497                    553  3.953704                108\n",
      "31705   --65q1FpAL_UQtVZ2PTGew  luCSjoNQ9q_0QIjKKOy2pQ  2010-12-20 00:00:00  JnvruYg_pQgzHdqBchOyug      4                   4     Nader  [Food, Sandwiches, Breweries, Pizza, Restaurants]                          Papago Brewing  33.465586 -111.927962      4.004608                    217  3.953704                108\n",
      "33499   --65q1FpAL_UQtVZ2PTGew  e9nN4XxjdHj4qtKCOPq_vg  2010-04-21 00:00:00  IPuOACRt819GWBqUzzVMcw      4                   1     Nader                          [Sandwiches, Restaurants]                        Lee's Sandwiches  33.334712 -111.874790      3.949438                    178  3.953704                108\n",
      "35373   --65q1FpAL_UQtVZ2PTGew  JokKtdXU7zXHcr20Lrk29A  2010-04-12 00:00:00  uDlWHnzMsHpYjXXw744VjQ      5                   0     Nader  [Bars, Food, Breweries, Pubs, Nightlife, Ameri...                   Four Peaks Brewing Co  33.419451 -111.915926      4.318444                    694  3.953704                108\n",
      "37223   --65q1FpAL_UQtVZ2PTGew  yc5AH9H71xJidA_J2mChLA  2010-09-23 00:00:00  c7xF0NN011UkgaEH0rtiEQ      4                   1     Nader        [Pubs, Bars, Nightlife, Irish, Restaurants]                       Rosie McCaffrey's  33.509517 -112.061566      3.846715                    137  3.953704                108\n",
      "38511   --65q1FpAL_UQtVZ2PTGew  XHr5mXFgobOHoxbPJxmYdg  2010-09-28 00:00:00  Eo1-86m1rb6vIrmzt_WZ_Q      4                   3     Nader                  [Breakfast & Brunch, Restaurants]                                Scramble  33.575476 -112.065159      3.933921                    227  3.953704                108\n",
      "40186   --65q1FpAL_UQtVZ2PTGew  VVeogjZya58oiTxK7qUjAQ  2011-10-30 00:00:00  _3WgUnOIC7NwI4NMb_--Sw      4                  11     Nader                               [Pizza, Restaurants]                         Pizzeria Bianco  33.449233 -112.065458      3.963612                    742  3.953704                108\n",
      "41181   --65q1FpAL_UQtVZ2PTGew  Pfb6VOIiroqDWOebfgWGPQ  2010-12-15 00:00:00  VF-6-OIsCFu4MDZmSIqjOQ      4                   4     Nader                      [American (New), Restaurants]                     Phoenix City Grille  33.522986 -112.047658      4.150794                    126  3.953704                108\n",
      "...                        ...                     ...                  ...                     ...    ...                 ...       ...                                                ...                                     ...        ...         ...           ...                    ...       ...                ...\n",
      "104492  --65q1FpAL_UQtVZ2PTGew  s87D-mtAuJ8BluKgYYsXGw  2011-01-08 00:00:00  PhfbG0vptQ0SQmIl_e5fQw      3                   4     Nader                             [Mexican, Restaurants]                             El Nopalito  33.479646 -112.030181      4.258065                     31  3.953704                108\n",
      "105032  --65q1FpAL_UQtVZ2PTGew  IPsG_71MD8pwB9i3TKOJYg  2011-02-09 00:00:00  kewYrYBGjMAPGTi5__2ilg      4                   3     Nader  [Bakeries, Food, Delis, Middle Eastern, Restau...            Middle Eastern Bakery & Deli  33.483722 -112.047667      4.457831                     83  3.953704                108\n",
      "105265  --65q1FpAL_UQtVZ2PTGew  6cy2C9aBXUwkrh4bY1DApw  2011-01-03 00:00:00  dKXzQKzHxTL1rsB0aQBgdw      4                  15     Nader                             [Mexican, Restaurants]                    Regio's Mexican Food  33.494676 -112.044961      4.250000                     16  3.953704                108\n",
      "105615  --65q1FpAL_UQtVZ2PTGew  j7-YRDU63fw975an55zHGg  2011-05-23 00:00:00  BqNpHEKVrpJEAhkRHJ46xA      5                   3     Nader                   [Indian, Pakistani, Restaurants]                                 Z-Grill  33.467015 -111.995850      4.090909                     11  3.953704                108\n",
      "105902  --65q1FpAL_UQtVZ2PTGew  iNvY0zAlaD_ye7Z6rHu-Ug  2009-10-04 00:00:00  qSBeMIAH-GRzT2aBRlv4QQ      4                   3     Nader                   [Burgers, Hot Dogs, Restaurants]                    Chicago Hamburger Co  33.495084 -111.999963      4.020548                    146  3.953704                108\n",
      "107388  --65q1FpAL_UQtVZ2PTGew  jVgtPnzXvZQOCCIUPEBktA  2010-12-05 00:00:00  rn1ttdMBxDeRmRahiWd1Lg      4                   3     Nader                             [Mexican, Restaurants]        Jalapeño Inferno Bistro Mexicano  33.700593 -111.923513      3.448819                    127  3.953704                108\n",
      "107689  --65q1FpAL_UQtVZ2PTGew  AeoJkr_dlNshB078OepP8w  2010-08-03 00:00:00  UaX-UpRqRs-jxO-T9BfkTA      3                   0     Nader                             [Mexican, Restaurants]                        Los Olivos Norte  33.627077 -111.891236      3.133333                     45  3.953704                108\n",
      "111362  --65q1FpAL_UQtVZ2PTGew  UCEAhciqe8avW1N-bWJ32g  2010-10-14 00:00:00  37fL_Jtwokv2xQ9smLaRWg      4                   5     Nader                             [Mexican, Restaurants]                            Los Taquitos  33.538927 -112.048079      4.029851                     67  3.953704                108\n",
      "111449  --65q1FpAL_UQtVZ2PTGew  CqhsIZ7TzCfJTrZqg5-gqQ  2010-04-05 00:00:00  xrr7cqi3BBn0ZVbneY_jow      5                   1     Nader  [Nightlife, Bars, American (Traditional), Spor...                     The Armadillo Grill  33.509374 -112.040950      3.914894                     94  3.953704                108\n",
      "112261  --65q1FpAL_UQtVZ2PTGew  qdA4qiSXjaiuqO4SueH9VA  2010-08-17 00:00:00  RnQ6106tI1b5gPbaw5Z-Mg      3                   1     Nader                             [Mexican, Restaurants]                         Burrito Express  33.423478 -111.856423      3.157895                     19  3.953704                108\n",
      "114124  --65q1FpAL_UQtVZ2PTGew  2rMf09C5uXzF2qIlD5F5BA  2010-11-23 00:00:00  8DuzvOm5a8tP6HDUK6foOA      3                   3     Nader                             [Mexican, Restaurants]                                 Secreto  33.305824 -111.991311      3.394737                     76  3.953704                108\n",
      "114714  --65q1FpAL_UQtVZ2PTGew  m3EKlucZuwnOazLrRfnWaQ  2011-02-07 00:00:00  cy4RlZum98RWkXhIVEMuQg      3                   3     Nader               [Fast Food, Sandwiches, Restaurants]                               Al's Beef  33.619412 -111.898093      3.534483                     58  3.953704                108\n",
      "114936  --65q1FpAL_UQtVZ2PTGew  DjVWQ_Idtw6X5Eg0W5JFWg  2011-10-13 00:00:00  h_u8e0b5SDFsgSq5FCLgfA      4                   6     Nader                [Greek, Mediterranean, Restaurants]                             Greek Gyros  33.623432 -111.896551      4.000000                     32  3.953704                108\n",
      "118268  --65q1FpAL_UQtVZ2PTGew  xEg0-xrQywU5K-WQO7cy0w  2009-08-06 00:00:00  6aWgs_IWPnVlpkkWqa49Qg      5                   5     Nader              [Indian, Buffets, Halal, Restaurants]                         Indian Paradise  33.622286 -111.904172      4.010753                     93  3.953704                108\n",
      "118424  --65q1FpAL_UQtVZ2PTGew  oMycF1cQgR1UVkafXfof7A  2010-10-29 00:00:00  -appMO8r0lE0clUwl5b_HA      3                   1     Nader                             [Mexican, Restaurants]                         Tortas El Guero  33.475371 -112.048271      4.111111                     36  3.953704                108\n",
      "120947  --65q1FpAL_UQtVZ2PTGew  GbEOmf5k73r_UJWjchrHOg  2012-07-05 00:00:00  EXAvW-WwOi9nYiuWUuMnFA      4                  10     Nader           [Breakfast & Brunch, Cafes, Restaurants]                            Wy-Knot Cafe  33.474137 -112.064967      4.241935                     62  3.953704                108\n",
      "121163  --65q1FpAL_UQtVZ2PTGew  znmvCpcwxYk_kYCqtUFt5Q  2011-11-14 00:00:00  IE2deE6zdHhNjMq4QJJg9A      1                  15     Nader           [Kosher, Vegetarian, Vegan, Restaurants]                              Fresh Mint  33.611934 -111.927152      4.017544                    114  3.953704                108\n",
      "121930  --65q1FpAL_UQtVZ2PTGew  mqQwChPNN4o4DhAzaGntIA  2010-08-10 00:00:00  9kSBXT6QBvwmSHN-zgk9Iw      5                   1     Nader              [American (Traditional), Restaurants]                     The Fry Bread House  33.496475 -112.083966      4.155280                    161  3.953704                108\n",
      "125626  --65q1FpAL_UQtVZ2PTGew  U7jOpLoLXYphWFqS6JO8mQ  2010-09-30 00:00:00  rY0fDM4uwM9EhXpYk5Qbug      3                   2     Nader  [Nightlife, Bars, Pizza, Sports Bars, Restaura...                       Native New Yorker  33.407079 -111.917216      3.105263                     38  3.953704                108\n",
      "132531  --65q1FpAL_UQtVZ2PTGew  DeAnVirgOxQnI36V1W158A  2010-11-02 00:00:00  dmvm2Hq6lUn9MVMiUGmhOg      3                   2     Nader                             [Mexican, Restaurants]           Juan's Authentic Mexican Food  33.480394 -112.049103      3.847458                     59  3.953704                108\n",
      "132775  --65q1FpAL_UQtVZ2PTGew  t4aP7ksa716XY6S4EsWFqw  2010-08-02 00:00:00  TMAu7lguI24D7QZs20ldsQ      5                   2     Nader                            [Hot Dogs, Restaurants]                                Maui Dog  33.495179 -112.005093      4.469388                     98  3.953704                108\n",
      "133475  --65q1FpAL_UQtVZ2PTGew  qVoWe3nVVkg5KSOmQpntIw  2010-11-01 00:00:00  afZM0u56i7Xfkw_afoMKog      4                   1     Nader                      [Italian, Pizza, Restaurants]                           Barro's Pizza  33.669572 -111.920965      4.062500                     16  3.953704                108\n",
      "135246  --65q1FpAL_UQtVZ2PTGew  r8CwFUEQtL8gAT9KHnNhuw  2011-05-12 00:00:00  GUqwEtetrcTZVisxr-7x7A      4                   3     Nader              [American (Traditional), Restaurants]                Teakwoods Tavern & Grill  33.496155 -112.021248      3.948718                     78  3.953704                108\n",
      "135549  --65q1FpAL_UQtVZ2PTGew  GoWTsb8sGyJ026a3cbw03Q  2009-12-16 00:00:00  h9gXeHzQnoN511TQoVbuWg      4                   1     Nader                             [Mexican, Restaurants]                    Vaqueros Carne Asada  33.391906 -112.097309      3.928571                     14  3.953704                108\n",
      "136467  --65q1FpAL_UQtVZ2PTGew  jFoLuxZFScgt5ZXNPTIOhg  2011-03-21 00:00:00  O0HWwnIvNFwZCmZWn5ku-Q      3                   1     Nader   [Sushi Bars, Asian Fusion, Chinese, Restaurants]             Fusion Sushi & China Bistro  33.628871 -111.886982      3.935484                     31  3.953704                108\n",
      "139314  --65q1FpAL_UQtVZ2PTGew  Vb93xlZKcSuuuZoAkIFCxw  2010-10-08 00:00:00  7GhBwLfXJwKg8zVtdsf1vQ      4                   1     Nader                             [Mexican, Restaurants]                  Moreno's Mexican Grill  33.421293 -111.925867      3.538462                     26  3.953704                108\n",
      "140323  --65q1FpAL_UQtVZ2PTGew  saON8-nDZi5W64u1xGtmPA  2012-06-05 00:00:00  IKRWv0bG-w5og5Nd3KcmpQ      4                   6     Nader                   [Afghan, Pakistani, Restaurants]                            Khyber Halal  33.494236 -112.030474      4.500000                     24  3.953704                108\n",
      "141519  --65q1FpAL_UQtVZ2PTGew  3N__CAwM5VZOhRKmxMtImw  2010-09-09 00:00:00  0im6A-mvOul3wnZ_ycDfXg      4                   1     Nader                            [Japanese, Restaurants]                     Eastwind Restaurant  33.610625 -111.977802      3.480769                     52  3.953704                108\n",
      "146076  --65q1FpAL_UQtVZ2PTGew  -q_VodbABJygOSuv86LOtw  2010-08-14 00:00:00  6SZrNCYlRGuIurMcctBlmA      5                   0     Nader                           [Soul Food, Restaurants]                             Chik A Ribs  33.538647 -112.098783      3.444444                      9  3.953704                108\n",
      "146085  --65q1FpAL_UQtVZ2PTGew  v3_CQRKezq3JdX-xxWambA  2010-11-01 00:00:00  rZfvpIdvQ9FkqEv7dTtuZQ      4                   1     Nader                             [Mexican, Restaurants]                         Pancho Taqueria  33.494843 -112.204607      4.600000                      5  3.953704                108\n",
      "\n",
      "[108 rows x 15 columns]\n"
     ]
    },
    {
     "data": {
      "text/html": [
       "<div style=\"max-height:1000px;max-width:1500px;overflow:auto;\">\n",
       "<table border=\"1\" class=\"dataframe\">\n",
       "  <thead>\n",
       "    <tr style=\"text-align: right;\">\n",
       "      <th></th>\n",
       "      <th>user_id</th>\n",
       "      <th>business_id</th>\n",
       "      <th>date</th>\n",
       "      <th>review_id</th>\n",
       "      <th>stars</th>\n",
       "      <th>usefulvotes_review</th>\n",
       "      <th>user_name</th>\n",
       "      <th>categories</th>\n",
       "      <th>biz_name</th>\n",
       "      <th>latitude</th>\n",
       "      <th>longitude</th>\n",
       "      <th>business_avg</th>\n",
       "      <th>business_review_count</th>\n",
       "      <th>user_avg</th>\n",
       "      <th>user_review_count</th>\n",
       "    </tr>\n",
       "  </thead>\n",
       "  <tbody>\n",
       "    <tr>\n",
       "      <th>239 </th>\n",
       "      <td> --65q1FpAL_UQtVZ2PTGew</td>\n",
       "      <td> r3r_bAfa6pZKIhQB82FizQ</td>\n",
       "      <td> 2009-08-06 00:00:00</td>\n",
       "      <td> 1E2xMa79MzmDobQeDXMqog</td>\n",
       "      <td> 3</td>\n",
       "      <td> 1</td>\n",
       "      <td> Nader</td>\n",
       "      <td>                            [Restaurants, Italian]</td>\n",
       "      <td>                 PastaBAR</td>\n",
       "      <td> 33.455863</td>\n",
       "      <td>-112.072167</td>\n",
       "      <td> 3.358491</td>\n",
       "      <td> 106</td>\n",
       "      <td> 3.953704</td>\n",
       "      <td> 108</td>\n",
       "    </tr>\n",
       "    <tr>\n",
       "      <th>429 </th>\n",
       "      <td> --65q1FpAL_UQtVZ2PTGew</td>\n",
       "      <td> eIxSLxzIlfExI6vgAbn2JA</td>\n",
       "      <td> 2010-04-05 00:00:00</td>\n",
       "      <td> cr-8VthsH_j8yFTak1t7NQ</td>\n",
       "      <td> 5</td>\n",
       "      <td> 2</td>\n",
       "      <td> Nader</td>\n",
       "      <td>  [Burgers, Hot Dogs, American (New), Restaurants]</td>\n",
       "      <td> Lobbys Beef Burgers Dogs</td>\n",
       "      <td> 33.394770</td>\n",
       "      <td>-111.908894</td>\n",
       "      <td> 4.283237</td>\n",
       "      <td> 173</td>\n",
       "      <td> 3.953704</td>\n",
       "      <td> 108</td>\n",
       "    </tr>\n",
       "    <tr>\n",
       "      <th>3497</th>\n",
       "      <td> --65q1FpAL_UQtVZ2PTGew</td>\n",
       "      <td> yGmdo1ENajB98iryHGoWFw</td>\n",
       "      <td> 2010-10-07 00:00:00</td>\n",
       "      <td> f8iB_xmmMBjVbLPQL1v7kA</td>\n",
       "      <td> 4</td>\n",
       "      <td> 1</td>\n",
       "      <td> Nader</td>\n",
       "      <td> [Bars, Dive Bars, Burgers, Nightlife, Sports B...</td>\n",
       "      <td> Monkey Pants Bar &amp; Grill</td>\n",
       "      <td> 33.394126</td>\n",
       "      <td>-111.939464</td>\n",
       "      <td> 3.571429</td>\n",
       "      <td>  70</td>\n",
       "      <td> 3.953704</td>\n",
       "      <td> 108</td>\n",
       "    </tr>\n",
       "    <tr>\n",
       "      <th>5162</th>\n",
       "      <td> --65q1FpAL_UQtVZ2PTGew</td>\n",
       "      <td> -sC66z4SO3tR7nFCjfQwuQ</td>\n",
       "      <td> 2010-04-04 00:00:00</td>\n",
       "      <td> Xhzo4VoHtjyTMJ8tt6TxMw</td>\n",
       "      <td> 4</td>\n",
       "      <td> 0</td>\n",
       "      <td> Nader</td>\n",
       "      <td>                            [Mexican, Restaurants]</td>\n",
       "      <td>        Gallo Blanco Cafe</td>\n",
       "      <td> 33.491120</td>\n",
       "      <td>-112.079081</td>\n",
       "      <td> 4.145957</td>\n",
       "      <td> 507</td>\n",
       "      <td> 3.953704</td>\n",
       "      <td> 108</td>\n",
       "    </tr>\n",
       "    <tr>\n",
       "      <th>7600</th>\n",
       "      <td> --65q1FpAL_UQtVZ2PTGew</td>\n",
       "      <td> bzDs0u8I-z231QVdIQWkrA</td>\n",
       "      <td> 2010-07-22 00:00:00</td>\n",
       "      <td> lk6_3yIyphQafvZrtMC5tA</td>\n",
       "      <td> 4</td>\n",
       "      <td> 2</td>\n",
       "      <td> Nader</td>\n",
       "      <td>                            [Mexican, Restaurants]</td>\n",
       "      <td>    Los Reyes de la Torta</td>\n",
       "      <td> 33.570813</td>\n",
       "      <td>-112.065737</td>\n",
       "      <td> 4.247967</td>\n",
       "      <td> 246</td>\n",
       "      <td> 3.953704</td>\n",
       "      <td> 108</td>\n",
       "    </tr>\n",
       "  </tbody>\n",
       "</table>\n",
       "</div>"
      ],
      "text/plain": [
       "                     user_id             business_id                 date               review_id  stars  usefulvotes_review user_name                                         categories                  biz_name   latitude   longitude  business_avg  business_review_count  user_avg  user_review_count\n",
       "239   --65q1FpAL_UQtVZ2PTGew  r3r_bAfa6pZKIhQB82FizQ  2009-08-06 00:00:00  1E2xMa79MzmDobQeDXMqog      3                   1     Nader                             [Restaurants, Italian]                  PastaBAR  33.455863 -112.072167      3.358491                    106  3.953704                108\n",
       "429   --65q1FpAL_UQtVZ2PTGew  eIxSLxzIlfExI6vgAbn2JA  2010-04-05 00:00:00  cr-8VthsH_j8yFTak1t7NQ      5                   2     Nader   [Burgers, Hot Dogs, American (New), Restaurants]  Lobbys Beef Burgers Dogs  33.394770 -111.908894      4.283237                    173  3.953704                108\n",
       "3497  --65q1FpAL_UQtVZ2PTGew  yGmdo1ENajB98iryHGoWFw  2010-10-07 00:00:00  f8iB_xmmMBjVbLPQL1v7kA      4                   1     Nader  [Bars, Dive Bars, Burgers, Nightlife, Sports B...  Monkey Pants Bar & Grill  33.394126 -111.939464      3.571429                     70  3.953704                108\n",
       "5162  --65q1FpAL_UQtVZ2PTGew  -sC66z4SO3tR7nFCjfQwuQ  2010-04-04 00:00:00  Xhzo4VoHtjyTMJ8tt6TxMw      4                   0     Nader                             [Mexican, Restaurants]         Gallo Blanco Cafe  33.491120 -112.079081      4.145957                    507  3.953704                108\n",
       "7600  --65q1FpAL_UQtVZ2PTGew  bzDs0u8I-z231QVdIQWkrA  2010-07-22 00:00:00  lk6_3yIyphQafvZrtMC5tA      4                   2     Nader                             [Mexican, Restaurants]     Los Reyes de la Torta  33.570813 -112.065737      4.247967                    246  3.953704                108"
      ]
     },
     "execution_count": 5,
     "metadata": {},
     "output_type": "execute_result"
    }
   ],
   "source": [
    "for k,v in full_yelp_group:\n",
    "    print 'key',k,'--->','value',v\n",
    "    val=v\n",
    "    break\n",
    "v.head()"
   ]
  },
  {
   "cell_type": "code",
   "execution_count": 6,
   "metadata": {
    "collapsed": false
   },
   "outputs": [
    {
     "data": {
      "text/plain": [
       "user_id\n",
       "--65q1FpAL_UQtVZ2PTGew    108\n",
       "--AqBuo717RyacADExYbSA      1\n",
       "--LzFD0UDbYE-Oho3AhsOg      1\n",
       "--M-cIkGnH1KhnLaCOmoPQ      1\n",
       "--RD0Z_F0tV4L-AzhOzXYA      1\n",
       "--VxRvXk3b8FwsSbC2Zpxw     15\n",
       "--dofeOsROFpm0q_dmqTTA      1\n",
       "--lMCM6K8-9NTvPlbCMXEA      1\n",
       "--rlgfAvvi0BtfRDA1p-VQ      7\n",
       "-01H9S7YxFrhRgNdvxmaVQ      2\n",
       "-06LYbA4Qm_9E83KNT1Jrg      2\n",
       "-0Js-tuVNbipC-AG_1lfbw      1\n",
       "-0Ycl6yN0BsX1U70-SZOYw      2\n",
       "-0gh7015nDOhZlwzlNNxwA      2\n",
       "-0heMfd5ngN1qm3vrVL83g      1\n",
       "...\n",
       "zxIEQP7bnqGyQ9dZ18TUVQ     9\n",
       "zxcrlC3cmH5S2TGIxuLwBw     1\n",
       "zxrPBLIMPMv0fx9dAYpiRw     1\n",
       "zxxgw3vZyzISNGqTuvxJjw     1\n",
       "zyMcgGk6bSUdHbl4StOIeA     2\n",
       "zyYXmyCYBn-yBb_4xJ_maw     3\n",
       "zyatWxIJFWqHj64kTzPc-g     1\n",
       "zzEvmdVGXvcVGpgWNRlXtg     1\n",
       "zzL0NsoMVMub2jmUTsFD4A     1\n",
       "zzQ2b-9Xu7-Tl8PNGZuspg     2\n",
       "zzVpQ6IBxeW3ZDdg0Ep_wg     5\n",
       "zzWUzYAj8SXwohidVLax9Q     1\n",
       "zzhdnNeg65wupOXqYtGyJw     1\n",
       "zzmRKNph-pBHDL2qwGv9Fw    16\n",
       "zztT9KKp0rmJRMeMl4CqzQ     4\n",
       "Name: review_id, Length: 34789, dtype: int64"
      ]
     },
     "execution_count": 6,
     "metadata": {},
     "output_type": "execute_result"
    }
   ],
   "source": [
    "full_yelp_group.review_id.count()"
   ]
  },
  {
   "cell_type": "code",
   "execution_count": 7,
   "metadata": {
    "collapsed": false
   },
   "outputs": [
    {
     "data": {
      "image/png": "[encoded data removed]",
      "text/plain": [
       "<matplotlib.figure.Figure at 0x39c35c0>"
      ]
     },
     "metadata": {},
     "output_type": "display_data"
    }
   ],
   "source": [
    "plt.hist(full_yelp_group.review_id.count(), bins=40, log=True)\n",
    "remove_border()\n",
    "plt.xlabel(\"Reviews per user\")\n",
    "plt.grid(False)\n",
    "plt.grid(axis = 'y', color ='white', linestyle='-')\n",
    "plt.title(\"Review Count per User\");"
   ]
  },
  {
   "cell_type": "code",
   "execution_count": 8,
   "metadata": {
    "collapsed": true
   },
   "outputs": [],
   "source": [
    "full_yelp_group_bid = full_yelp_ds.groupby('business_id')    "
   ]
  },
  {
   "cell_type": "code",
   "execution_count": 9,
   "metadata": {
    "collapsed": false
   },
   "outputs": [
    {
     "data": {
      "image/png": "[encoded data removed]",
      "text/plain": [
       "<matplotlib.figure.Figure at 0x18d53208>"
      ]
     },
     "metadata": {},
     "output_type": "display_data"
    }
   ],
   "source": [
    "plt.hist(full_yelp_group_bid.review_id.count(), bins=40, log=True)\n",
    "remove_border()\n",
    "plt.xlabel(\"Reviews per restaurant\")\n",
    "plt.grid(False)\n",
    "plt.grid(axis = 'y', color ='white', linestyle='-')\n",
    "plt.title(\"Review Count per Restaurnt\");"
   ]
  },
  {
   "cell_type": "code",
   "execution_count": 10,
   "metadata": {
    "collapsed": false
   },
   "outputs": [
    {
     "name": "stdout",
     "output_type": "stream",
     "text": [
      "Total Number of entries 149319\n",
      "Number of users 34789\n",
      "Number of Bussiness 4503\n"
     ]
    }
   ],
   "source": [
    "print \"Total Number of entries\",full_yelp_ds.shape[0]\n",
    "print \"Number of users\",full_yelp_ds.user_id.unique().shape[0]\n",
    "print \"Number of Bussiness\", full_yelp_ds.business_id.unique().shape[0]"
   ]
  },
  {
   "cell_type": "code",
   "execution_count": 11,
   "metadata": {
    "collapsed": false
   },
   "outputs": [
    {
     "data": {
      "text/plain": [
       "3.7414126802349332"
      ]
     },
     "execution_count": 11,
     "metadata": {},
     "output_type": "execute_result"
    }
   ],
   "source": [
    "full_yelp_ds.stars.mean()"
   ]
  },
  {
   "cell_type": "code",
   "execution_count": 12,
   "metadata": {
    "collapsed": false
   },
   "outputs": [
    {
     "data": {
      "image/png": "[encoded data removed]",
      "text/plain": [
       "<matplotlib.figure.Figure at 0x18d53390>"
      ]
     },
     "metadata": {},
     "output_type": "display_data"
    }
   ],
   "source": [
    "plt.hist(full_yelp_ds.stars, bins=5)\n",
    "remove_border()\n",
    "plt.xlabel(\"Ratings for Restaurant\")\n",
    "plt.grid(False)\n",
    "plt.grid(axis = 'y', color ='white', linestyle='-')\n",
    "plt.title(\"Reviews for Restaurnt\");"
   ]
  },
  {
   "cell_type": "markdown",
   "metadata": {},
   "source": [
    "The following function is used to re-compute review counts and averages whenever you subset a reviews data frame. We'll use it soon to construct a smaller, more computationally tractable data frame."
   ]
  },
  {
   "cell_type": "code",
   "execution_count": 13,
   "metadata": {
    "collapsed": true
   },
   "outputs": [],
   "source": [
    "def recompute_frame(ldf):\n",
    "    \"\"\"\n",
    "    takes a dataframe ldf, makes a copy of it, and returns the copy\n",
    "    with all averages and review counts recomputed\n",
    "    this is used when a frame is subsetted.\n",
    "    \"\"\"\n",
    "    ldfu=ldf.groupby('user_id')\n",
    "    ldfb=ldf.groupby('business_id')\n",
    "    user_avg=ldfu.stars.mean()\n",
    "    user_review_count=ldfu.review_id.count()\n",
    "    business_avg=ldfb.stars.mean()\n",
    "    business_review_count=ldfb.review_id.count()\n",
    "    nldf=ldf.copy()\n",
    "    nldf.set_index(['business_id'], inplace=True)\n",
    "    nldf['business_avg']=business_avg\n",
    "    nldf['business_review_count']=business_review_count\n",
    "    nldf.reset_index(inplace=True)\n",
    "    nldf.set_index(['user_id'], inplace=True)\n",
    "    nldf['user_avg']=user_avg\n",
    "    nldf['user_review_count']=user_review_count\n",
    "    nldf.reset_index(inplace=True)\n",
    "    return nldf"
   ]
  },
  {
   "cell_type": "markdown",
   "metadata": {},
   "source": [
    "1.3 Create a smaller data set in dataframe smalldf by looking for those businesses with more than 150 reviews and those users with more than 60 reviews. Include all the columns that were there in the parent dataframe. Since you have created a subset of the data set, use the method provided above to recalculate the averages. Print the number of unique users and items in this data set.\n",
    "\n",
    "Note that while this cut makes sure we have prolific users, the cut on businesses restores sparsity by reducing the number of reviews per user."
   ]
  },
  {
   "cell_type": "code",
   "execution_count": 14,
   "metadata": {
    "collapsed": false
   },
   "outputs": [
    {
     "data": {
      "text/html": [
       "<div style=\"max-height:1000px;max-width:1500px;overflow:auto;\">\n",
       "<table border=\"1\" class=\"dataframe\">\n",
       "  <thead>\n",
       "    <tr style=\"text-align: right;\">\n",
       "      <th></th>\n",
       "      <th>user_id</th>\n",
       "      <th>business_id</th>\n",
       "      <th>date</th>\n",
       "      <th>review_id</th>\n",
       "      <th>stars</th>\n",
       "      <th>usefulvotes_review</th>\n",
       "      <th>user_name</th>\n",
       "      <th>categories</th>\n",
       "      <th>biz_name</th>\n",
       "      <th>latitude</th>\n",
       "      <th>longitude</th>\n",
       "      <th>business_avg</th>\n",
       "      <th>business_review_count</th>\n",
       "      <th>user_avg</th>\n",
       "      <th>user_review_count</th>\n",
       "    </tr>\n",
       "  </thead>\n",
       "  <tbody>\n",
       "    <tr>\n",
       "      <th>0</th>\n",
       "      <td> rLtl8ZkDX5vH5nAx9C3q5Q</td>\n",
       "      <td> 9yKzy9PApeiPPOUJEtnvkg</td>\n",
       "      <td> 2011-01-26 00:00:00</td>\n",
       "      <td> fWKvX83p0-ka4JS3dc6E5A</td>\n",
       "      <td> 5</td>\n",
       "      <td> 5</td>\n",
       "      <td>    Jason</td>\n",
       "      <td> [Breakfast &amp; Brunch, Restaurants]</td>\n",
       "      <td> Morning Glory Cafe</td>\n",
       "      <td> 33.390792</td>\n",
       "      <td>-112.012504</td>\n",
       "      <td> 3.87156</td>\n",
       "      <td> 109</td>\n",
       "      <td> 3.796954</td>\n",
       "      <td> 197</td>\n",
       "    </tr>\n",
       "    <tr>\n",
       "      <th>1</th>\n",
       "      <td> SBbftLzfYYKItOMFwOTIJg</td>\n",
       "      <td> 9yKzy9PApeiPPOUJEtnvkg</td>\n",
       "      <td> 2008-05-04 00:00:00</td>\n",
       "      <td> DASdFe-g0BgfN9J2tanStg</td>\n",
       "      <td> 5</td>\n",
       "      <td> 1</td>\n",
       "      <td> Jennifer</td>\n",
       "      <td> [Breakfast &amp; Brunch, Restaurants]</td>\n",
       "      <td> Morning Glory Cafe</td>\n",
       "      <td> 33.390792</td>\n",
       "      <td>-112.012504</td>\n",
       "      <td> 3.87156</td>\n",
       "      <td> 109</td>\n",
       "      <td> 3.473684</td>\n",
       "      <td>  57</td>\n",
       "    </tr>\n",
       "  </tbody>\n",
       "</table>\n",
       "</div>"
      ],
      "text/plain": [
       "                  user_id             business_id                 date               review_id  stars  usefulvotes_review user_name                         categories            biz_name   latitude   longitude  business_avg  business_review_count  user_avg  user_review_count\n",
       "0  rLtl8ZkDX5vH5nAx9C3q5Q  9yKzy9PApeiPPOUJEtnvkg  2011-01-26 00:00:00  fWKvX83p0-ka4JS3dc6E5A      5                   5     Jason  [Breakfast & Brunch, Restaurants]  Morning Glory Cafe  33.390792 -112.012504       3.87156                    109  3.796954                197\n",
       "1  SBbftLzfYYKItOMFwOTIJg  9yKzy9PApeiPPOUJEtnvkg  2008-05-04 00:00:00  DASdFe-g0BgfN9J2tanStg      5                   1  Jennifer  [Breakfast & Brunch, Restaurants]  Morning Glory Cafe  33.390792 -112.012504       3.87156                    109  3.473684                 57"
      ]
     },
     "execution_count": 14,
     "metadata": {},
     "output_type": "execute_result"
    }
   ],
   "source": [
    "full_yelp_ds.head(2)"
   ]
  },
  {
   "cell_type": "code",
   "execution_count": 15,
   "metadata": {
    "collapsed": false
   },
   "outputs": [],
   "source": [
    "smldf = full_yelp_ds[(full_yelp_ds.business_review_count.values >  150) & (full_yelp_ds.user_review_count > 60)]\n",
    "smalldf=recompute_frame(smldf)"
   ]
  },
  {
   "cell_type": "code",
   "execution_count": 16,
   "metadata": {
    "collapsed": false
   },
   "outputs": [
    {
     "name": "stdout",
     "output_type": "stream",
     "text": [
      "Total Number of entries 6165\n",
      "Number of users 240\n",
      "Number of Bussiness 172\n"
     ]
    }
   ],
   "source": [
    "print \"Total Number of entries\",smalldf.shape[0]\n",
    "print \"Number of users\",smalldf.user_id.unique().shape[0]\n",
    "print \"Number of Bussiness\", smalldf.business_id.unique().shape[0]"
   ]
  },
  {
   "cell_type": "markdown",
   "metadata": {},
   "source": [
    "How does this compare to the parent data set, in terms of size and sparsity? Once again, plot histograms of the review count grouped by user, and by the review count grouped by business, respectively, and describe the results"
   ]
  },
  {
   "cell_type": "code",
   "execution_count": 17,
   "metadata": {
    "collapsed": true
   },
   "outputs": [],
   "source": [
    "smalldf_grp_user = smalldf.groupby('user_id')"
   ]
  },
  {
   "cell_type": "code",
   "execution_count": 18,
   "metadata": {
    "collapsed": false
   },
   "outputs": [],
   "source": [
    "smalldf_grp_bus = smalldf.groupby('business_id')"
   ]
  },
  {
   "cell_type": "code",
   "execution_count": 19,
   "metadata": {
    "collapsed": false
   },
   "outputs": [
    {
     "data": {
      "image/png": "[encoded data removed]",
      "text/plain": [
       "<matplotlib.figure.Figure at 0x194bd6d8>"
      ]
     },
     "metadata": {},
     "output_type": "display_data"
    }
   ],
   "source": [
    "plt.hist(smalldf_grp_user.review_id.count(), bins=40, log=True)\n",
    "remove_border()\n",
    "plt.xlabel(\"Reviews per user\")\n",
    "plt.grid(False)\n",
    "plt.grid(axis = 'y', color ='white', linestyle='-')\n",
    "plt.title(\"Review Count per User\");"
   ]
  },
  {
   "cell_type": "code",
   "execution_count": 20,
   "metadata": {
    "collapsed": false
   },
   "outputs": [
    {
     "data": {
      "image/png": "[encoded data removed]",
      "text/plain": [
       "<matplotlib.figure.Figure at 0x188031d0>"
      ]
     },
     "metadata": {},
     "output_type": "display_data"
    }
   ],
   "source": [
    "plt.hist(smalldf_grp_bus.review_id.count(), bins=40, log=True)\n",
    "remove_border()\n",
    "plt.xlabel(\"Reviews per restaurant\")\n",
    "plt.grid(False)\n",
    "plt.grid(axis = 'y', color ='white', linestyle='-')\n",
    "plt.title(\"Review Count per Restaurnt\");"
   ]
  },
  {
   "cell_type": "markdown",
   "metadata": {},
   "source": [
    "1.4 Compute histograms of the average user rating in the smaller data set, and the average business rating in the smaller data set. Print the overall mean."
   ]
  },
  {
   "cell_type": "code",
   "execution_count": 21,
   "metadata": {
    "collapsed": false
   },
   "outputs": [
    {
     "data": {
      "text/html": [
       "<div style=\"max-height:1000px;max-width:1500px;overflow:auto;\">\n",
       "<table border=\"1\" class=\"dataframe\">\n",
       "  <thead>\n",
       "    <tr style=\"text-align: right;\">\n",
       "      <th></th>\n",
       "      <th>user_id</th>\n",
       "      <th>business_id</th>\n",
       "      <th>date</th>\n",
       "      <th>review_id</th>\n",
       "      <th>stars</th>\n",
       "      <th>usefulvotes_review</th>\n",
       "      <th>user_name</th>\n",
       "      <th>categories</th>\n",
       "      <th>biz_name</th>\n",
       "      <th>latitude</th>\n",
       "      <th>longitude</th>\n",
       "      <th>business_avg</th>\n",
       "      <th>business_review_count</th>\n",
       "      <th>user_avg</th>\n",
       "      <th>user_review_count</th>\n",
       "    </tr>\n",
       "  </thead>\n",
       "  <tbody>\n",
       "    <tr>\n",
       "      <th>0</th>\n",
       "      <td> rLtl8ZkDX5vH5nAx9C3q5Q</td>\n",
       "      <td> eIxSLxzIlfExI6vgAbn2JA</td>\n",
       "      <td> 2011-05-12 00:00:00</td>\n",
       "      <td> z4G1g3VcdfigCUtVDFRL1w</td>\n",
       "      <td> 4</td>\n",
       "      <td>  5</td>\n",
       "      <td>       Jason</td>\n",
       "      <td> [Burgers, Hot Dogs, American (New), Restaurants]</td>\n",
       "      <td> Lobbys Beef Burgers Dogs</td>\n",
       "      <td> 33.39477</td>\n",
       "      <td>-111.908894</td>\n",
       "      <td> 4.04</td>\n",
       "      <td> 25</td>\n",
       "      <td> 3.709677</td>\n",
       "      <td> 62</td>\n",
       "    </tr>\n",
       "    <tr>\n",
       "      <th>1</th>\n",
       "      <td> C6IOtaaYdLIT5fWd7ZYIuA</td>\n",
       "      <td> eIxSLxzIlfExI6vgAbn2JA</td>\n",
       "      <td> 2011-04-12 00:00:00</td>\n",
       "      <td> 480M-xDpRaA1gCVCqIG4WA</td>\n",
       "      <td> 4</td>\n",
       "      <td> 14</td>\n",
       "      <td>       Daren</td>\n",
       "      <td> [Burgers, Hot Dogs, American (New), Restaurants]</td>\n",
       "      <td> Lobbys Beef Burgers Dogs</td>\n",
       "      <td> 33.39477</td>\n",
       "      <td>-111.908894</td>\n",
       "      <td> 4.04</td>\n",
       "      <td> 25</td>\n",
       "      <td> 4.000000</td>\n",
       "      <td> 15</td>\n",
       "    </tr>\n",
       "    <tr>\n",
       "      <th>2</th>\n",
       "      <td> mlBC3pN9GXlUUfQi1qBBZA</td>\n",
       "      <td> eIxSLxzIlfExI6vgAbn2JA</td>\n",
       "      <td> 2011-09-17 00:00:00</td>\n",
       "      <td> q_T6FtScTul_yYIGyrgTxA</td>\n",
       "      <td> 3</td>\n",
       "      <td>  0</td>\n",
       "      <td>    Jennifer</td>\n",
       "      <td> [Burgers, Hot Dogs, American (New), Restaurants]</td>\n",
       "      <td> Lobbys Beef Burgers Dogs</td>\n",
       "      <td> 33.39477</td>\n",
       "      <td>-111.908894</td>\n",
       "      <td> 4.04</td>\n",
       "      <td> 25</td>\n",
       "      <td> 3.750000</td>\n",
       "      <td> 12</td>\n",
       "    </tr>\n",
       "    <tr>\n",
       "      <th>3</th>\n",
       "      <td> T7J9ae0wTskrI_Bgwp-4cA</td>\n",
       "      <td> eIxSLxzIlfExI6vgAbn2JA</td>\n",
       "      <td> 2011-03-09 00:00:00</td>\n",
       "      <td> YPKedK7JuKC36cDAKuDGTQ</td>\n",
       "      <td> 3</td>\n",
       "      <td>  2</td>\n",
       "      <td>     Jasmine</td>\n",
       "      <td> [Burgers, Hot Dogs, American (New), Restaurants]</td>\n",
       "      <td> Lobbys Beef Burgers Dogs</td>\n",
       "      <td> 33.39477</td>\n",
       "      <td>-111.908894</td>\n",
       "      <td> 4.04</td>\n",
       "      <td> 25</td>\n",
       "      <td> 3.696970</td>\n",
       "      <td> 33</td>\n",
       "    </tr>\n",
       "    <tr>\n",
       "      <th>4</th>\n",
       "      <td> nbofxFWHORebBHh10OgYLA</td>\n",
       "      <td> eIxSLxzIlfExI6vgAbn2JA</td>\n",
       "      <td> 2011-07-28 00:00:00</td>\n",
       "      <td> y7yBnfbPxZJ_L93tnxMP3g</td>\n",
       "      <td> 2</td>\n",
       "      <td>  1</td>\n",
       "      <td> Christopher</td>\n",
       "      <td> [Burgers, Hot Dogs, American (New), Restaurants]</td>\n",
       "      <td> Lobbys Beef Burgers Dogs</td>\n",
       "      <td> 33.39477</td>\n",
       "      <td>-111.908894</td>\n",
       "      <td> 4.04</td>\n",
       "      <td> 25</td>\n",
       "      <td> 3.833333</td>\n",
       "      <td> 12</td>\n",
       "    </tr>\n",
       "  </tbody>\n",
       "</table>\n",
       "</div>"
      ],
      "text/plain": [
       "                  user_id             business_id                 date               review_id  stars  usefulvotes_review    user_name                                        categories                  biz_name  latitude   longitude  business_avg  business_review_count  user_avg  user_review_count\n",
       "0  rLtl8ZkDX5vH5nAx9C3q5Q  eIxSLxzIlfExI6vgAbn2JA  2011-05-12 00:00:00  z4G1g3VcdfigCUtVDFRL1w      4                   5        Jason  [Burgers, Hot Dogs, American (New), Restaurants]  Lobbys Beef Burgers Dogs  33.39477 -111.908894          4.04                     25  3.709677                 62\n",
       "1  C6IOtaaYdLIT5fWd7ZYIuA  eIxSLxzIlfExI6vgAbn2JA  2011-04-12 00:00:00  480M-xDpRaA1gCVCqIG4WA      4                  14        Daren  [Burgers, Hot Dogs, American (New), Restaurants]  Lobbys Beef Burgers Dogs  33.39477 -111.908894          4.04                     25  4.000000                 15\n",
       "2  mlBC3pN9GXlUUfQi1qBBZA  eIxSLxzIlfExI6vgAbn2JA  2011-09-17 00:00:00  q_T6FtScTul_yYIGyrgTxA      3                   0     Jennifer  [Burgers, Hot Dogs, American (New), Restaurants]  Lobbys Beef Burgers Dogs  33.39477 -111.908894          4.04                     25  3.750000                 12\n",
       "3  T7J9ae0wTskrI_Bgwp-4cA  eIxSLxzIlfExI6vgAbn2JA  2011-03-09 00:00:00  YPKedK7JuKC36cDAKuDGTQ      3                   2      Jasmine  [Burgers, Hot Dogs, American (New), Restaurants]  Lobbys Beef Burgers Dogs  33.39477 -111.908894          4.04                     25  3.696970                 33\n",
       "4  nbofxFWHORebBHh10OgYLA  eIxSLxzIlfExI6vgAbn2JA  2011-07-28 00:00:00  y7yBnfbPxZJ_L93tnxMP3g      2                   1  Christopher  [Burgers, Hot Dogs, American (New), Restaurants]  Lobbys Beef Burgers Dogs  33.39477 -111.908894          4.04                     25  3.833333                 12"
      ]
     },
     "execution_count": 21,
     "metadata": {},
     "output_type": "execute_result"
    }
   ],
   "source": [
    "smalldf.head()"
   ]
  },
  {
   "cell_type": "code",
   "execution_count": 22,
   "metadata": {
    "collapsed": false
   },
   "outputs": [
    {
     "data": {
      "image/png": "[encoded data removed]",
      "text/plain": [
       "<matplotlib.figure.Figure at 0xbea90b8>"
      ]
     },
     "metadata": {},
     "output_type": "display_data"
    }
   ],
   "source": [
    "plt.hist(smalldf.user_avg.values, bins=5)\n",
    "remove_border()\n",
    "plt.xlabel(\"Ratings for Restaurant\")\n",
    "plt.grid(False)\n",
    "plt.grid(axis = 'y', color ='white', linestyle='-')\n",
    "plt.title(\"Average user rating for Restaurnt\");"
   ]
  },
  {
   "cell_type": "code",
   "execution_count": 23,
   "metadata": {
    "collapsed": false
   },
   "outputs": [
    {
     "data": {
      "image/png": "[encoded data removed]",
      "text/plain": [
       "<matplotlib.figure.Figure at 0xc3fc390>"
      ]
     },
     "metadata": {},
     "output_type": "display_data"
    }
   ],
   "source": [
    "plt.hist(smalldf.business_avg.values, bins=5)\n",
    "remove_border()\n",
    "plt.xlabel(\"Ratings for Restaurant\")\n",
    "plt.grid(False)\n",
    "plt.grid(axis = 'y', color ='white', linestyle='-')\n",
    "plt.title(\"Average business rating for Restaurnt\");"
   ]
  },
  {
   "cell_type": "code",
   "execution_count": 24,
   "metadata": {
    "collapsed": false
   },
   "outputs": [
    {
     "name": "stdout",
     "output_type": "stream",
     "text": [
      "Overall mean 3.86763990268\n"
     ]
    }
   ],
   "source": [
    "print \"Overall mean\", smalldf.stars.mean()"
   ]
  },
  {
   "cell_type": "markdown",
   "metadata": {},
   "source": [
    "##Common Support\n",
    "Lets now make a histogram of the common user support (the number of common reviewers) of each pair of restaurants on the smaller set, and print the mean. Pay attention to the code, as you will use parts of it later. (This code takes a bit of time to run, so be patient).\n",
    "\n",
    "The common support is an important concept, as for each pair of restaurants, its the number of people who reviewed both. It will be used to modify similarity between restaurants. If the common support is low, the similarity is less believable."
   ]
  },
  {
   "cell_type": "code",
   "execution_count": 25,
   "metadata": {
    "collapsed": false
   },
   "outputs": [
    {
     "name": "stdout",
     "output_type": "stream",
     "text": [
      "Mean support is: 6.84679722562\n"
     ]
    },
    {
     "data": {
      "image/png": "[encoded data removed]",
      "text/plain": [
       "<matplotlib.figure.Figure at 0x18593550>"
      ]
     },
     "metadata": {},
     "output_type": "display_data"
    }
   ],
   "source": [
    "restaurants=smalldf.business_id.unique()\n",
    "supports=[]\n",
    "for i,rest1 in enumerate(restaurants):\n",
    "    for j,rest2 in enumerate(restaurants):\n",
    "        if  i < j:\n",
    "            rest1_reviewers = smalldf[smalldf.business_id==rest1].user_id.unique()\n",
    "            rest2_reviewers = smalldf[smalldf.business_id==rest2].user_id.unique()\n",
    "            common_reviewers = set(rest1_reviewers).intersection(rest2_reviewers)\n",
    "            supports.append(len(common_reviewers))\n",
    "print \"Mean support is:\",np.mean(supports)\n",
    "plt.hist(supports)\n",
    "remove_border()"
   ]
  },
  {
   "cell_type": "code",
   "execution_count": 26,
   "metadata": {
    "collapsed": false
   },
   "outputs": [
    {
     "data": {
      "text/plain": [
       "numpy.ndarray"
      ]
     },
     "execution_count": 26,
     "metadata": {},
     "output_type": "execute_result"
    }
   ],
   "source": [
    "u=smalldf[smalldf.business_id=='eIxSLxzIlfExI6vgAbn2JA'].user_id.unique()\n",
    "type(u)"
   ]
  },
  {
   "cell_type": "markdown",
   "metadata": {},
   "source": [
    "##Calculating Simliarity"
   ]
  },
  {
   "cell_type": "markdown",
   "metadata": {},
   "source": [
    "Users rate restaurants on a scale of 1-5. Even though this rating is integer valued, for the purposes of this assignment we shall treat it as a real number.\n",
    "\n",
    "Even though each reviewer uses the same 5-star scale when rating restaurants, comparing two users by comparing their raw user ratings can be problematic. Consider a user whose average rating is 2. This is a curmudgeonly user. Consider another whose average rating is 4. This is a rather enthusiastic one. How should we compare a 3 rating by the curmudgeonly one to a 5 rating of the enthusiastic one?\n",
    "\n",
    "It is for this purpose that we must subtract the average rating of the user from the actual rating of the restaurants in computing the similarity of two restaurants. This makes the above ratings by the two users comparable. We do this in the function pearson_sim defined below.\n",
    "\n",
    "If there is no common support (n_common=0), we have no basis for making a similarity estimate, and so we set the similarity to 0. In the case that the individual restaurant rating variance is 0, such as in the case where there is only one common reviewer (n_common=1), we return the NaN that the scipy pearsonr returns. We will deal with it soon,"
   ]
  },
  {
   "cell_type": "code",
   "execution_count": 27,
   "metadata": {
    "collapsed": true
   },
   "outputs": [],
   "source": [
    "from scipy.stats.stats import pearsonr\n",
    "def pearson_sim(rest1_reviews, rest2_reviews, n_common):\n",
    "    \"\"\"\n",
    "    Given a subframe of restaurant 1 reviews and a subframe of restaurant 2 reviews,\n",
    "    where the reviewers are those who have reviewed both restaurants, return \n",
    "    the pearson correlation coefficient between the user average subtracted ratings.\n",
    "    The case for zero common reviewers is handled separately. Its\n",
    "    ok to return a NaN if any of the individual variances are 0.\n",
    "    \"\"\"\n",
    "    if n_common==0:\n",
    "        rho=0.\n",
    "    else:\n",
    "        diff1=rest1_reviews['stars']-rest1_reviews['user_avg']\n",
    "        diff2=rest2_reviews['stars']-rest2_reviews['user_avg']\n",
    "        rho=pearsonr(diff1, diff2)[0]\n",
    "    return rho"
   ]
  },
  {
   "cell_type": "markdown",
   "metadata": {},
   "source": [
    "The function get_restaurant_reviews defined below takes a restaurant business_id and a set of users, and returns the reviews of that restaurant by those users. You will use this function in calculating a similarity function, in 1.5."
   ]
  },
  {
   "cell_type": "code",
   "execution_count": 28,
   "metadata": {
    "collapsed": true
   },
   "outputs": [],
   "source": [
    "def get_restaurant_reviews(restaurant_id, df, set_of_users):\n",
    "    \"\"\"\n",
    "    given a resturant id and a set of reviewers, return the sub-dataframe of their\n",
    "    reviews.\n",
    "    \"\"\"\n",
    "    mask = (df.user_id.isin(set_of_users)) & (df.business_id==restaurant_id)\n",
    "    reviews = df[mask]\n",
    "    reviews = reviews[reviews.user_id.duplicated()==False]\n",
    "    return reviews"
   ]
  },
  {
   "cell_type": "code",
   "execution_count": null,
   "metadata": {
    "collapsed": true
   },
   "outputs": [],
   "source": []
  },
  {
   "cell_type": "markdown",
   "metadata": {},
   "source": [
    "Write a function calculate_similarity that operates between two restaurants and calculates a similarity for them, taking a dataframe and a similarity function similarity_func. An example of the similarity_func is the pearson_sim we defined above. calculate_similarity operates as follows:\n",
    "\n",
    "For each of the two restaurants, get the set of reviewers who have reviewed the restaurant and compute the intersection of these two sets. Also compute the number of common reviewers n_common.\n",
    "\n",
    "Use the function get_restaurant_reviews defined below to get the reviews for each restaurant as made by these common reviewers. Notice that get_restaurant_reviews returns a sub data frame of reviews.\n",
    "\n",
    "Calculate the similarity using similarity_func which takes the two reviews dataframes from part 2 and the number of common reviewers n_common as arguments\n",
    "\n",
    "Return the similarity and n_common in a tuple (sim, n_common). If the similarity is a NaN, set the similarity to 0.\n",
    "\n"
   ]
  },
  {
   "cell_type": "code",
   "execution_count": 35,
   "metadata": {
    "collapsed": true
   },
   "outputs": [],
   "source": [
    "def calculate_similarity(rest1, rest2, df, similarity_func):\n",
    "    rest1_reviewers = smalldf[smalldf.business_id==rest1].user_id.unique()\n",
    "    rest2_reviewers = smalldf[smalldf.business_id==rest2].user_id.unique()\n",
    "    common_reviewers = set(rest1_reviewers).intersection(rest2_reviewers)\n",
    "    n_common = len(common_reviewers)\n",
    "    \n",
    "    review1 = get_restaurant_reviews(rest1, df, common_reviewers)\n",
    "    review2 = get_restaurant_reviews(rest2, df, common_reviewers)\n",
    "    \n",
    "    similarity = similarity_func(review1, review2, n_common)\n",
    "    \n",
    "    if np.isnan(similarity):\n",
    "        return 0, n_common\n",
    "    return similarity, n_common"
   ]
  },
  {
   "cell_type": "markdown",
   "metadata": {},
   "source": [
    "##Making a database of similarities\n",
    "\n",
    "We now move to calculating a global database of pairwise restaurant similarities. We provide you here with a function to make a database of the similarities for each pair of restaurants in the database. The class Database is initialized in its constructor by taking as arguments a dataframe of reviews. The method populate_by calculating iterates over every possible pair of business_id's in the dataframe and populates the database with similarities and common supports. It takes as arguments a function the similarity function similarity_func like pearson_sim (calculate_similarity then uses this to calculate the similarity). The get method on the database can be used to retrieve the similarity for two business ids."
   ]
  },
  {
   "cell_type": "code",
   "execution_count": 36,
   "metadata": {
    "collapsed": true
   },
   "outputs": [],
   "source": [
    "class Database:\n",
    "    \"A class representing a database of similaries and common supports\"\n",
    "    \n",
    "    def __init__(self, df):\n",
    "        \"the constructor, takes a reviews dataframe like smalldf as its argument\"\n",
    "        database={}\n",
    "        self.df=df\n",
    "        self.uniquebizids={v:k for (k,v) in enumerate(df.business_id.unique())}\n",
    "        keys=self.uniquebizids.keys()\n",
    "        l_keys=len(keys)\n",
    "        self.database_sim=np.zeros([l_keys,l_keys])\n",
    "        self.database_sup=np.zeros([l_keys, l_keys], dtype=np.int)\n",
    "        \n",
    "    def populate_by_calculating(self, similarity_func):\n",
    "        \"\"\"\n",
    "        a populator for every pair of businesses in df. takes similarity_func like\n",
    "        pearson_sim as argument\n",
    "        \"\"\"\n",
    "        items=self.uniquebizids.items()\n",
    "        for b1, i1 in items:\n",
    "            for b2, i2 in items:\n",
    "                if i1 < i2:\n",
    "                    sim, nsup=calculate_similarity(b1, b2, self.df, similarity_func)\n",
    "                    self.database_sim[i1][i2]=sim\n",
    "                    self.database_sim[i2][i1]=sim\n",
    "                    self.database_sup[i1][i2]=nsup\n",
    "                    self.database_sup[i2][i1]=nsup\n",
    "                elif i1==i2:\n",
    "                    nsup=self.df[self.df.business_id==b1].user_id.count()\n",
    "                    self.database_sim[i1][i1]=1.\n",
    "                    self.database_sup[i1][i1]=nsup\n",
    "                    \n",
    "\n",
    "    def get(self, b1, b2):\n",
    "        \"returns a tuple of similarity,common_support given two business ids\"\n",
    "        sim=self.database_sim[self.uniquebizids[b1]][self.uniquebizids[b2]]\n",
    "        nsup=self.database_sup[self.uniquebizids[b1]][self.uniquebizids[b2]]\n",
    "        return (sim, nsup)"
   ]
  },
  {
   "cell_type": "code",
   "execution_count": 37,
   "metadata": {
    "collapsed": false
   },
   "outputs": [],
   "source": [
    "db=Database(smalldf)\n",
    "db.populate_by_calculating(pearson_sim)"
   ]
  },
  {
   "cell_type": "code",
   "execution_count": 38,
   "metadata": {
    "collapsed": false
   },
   "outputs": [
    {
     "data": {
      "text/plain": [
       "(0.39904554525734559, 7)"
      ]
     },
     "execution_count": 38,
     "metadata": {},
     "output_type": "execute_result"
    }
   ],
   "source": [
    "# Checking the similarity and number of common reviewrs b/w pair of restaurants.\n",
    "db.get(\"z3yFuLVrmH-3RJruPEMYKw\", \"zruUQvFySeXyEd7_rQixBg\")"
   ]
  },
  {
   "cell_type": "markdown",
   "metadata": {},
   "source": [
    "##K-Nearest restaurants (in similarity)"
   ]
  },
  {
   "cell_type": "markdown",
   "metadata": {},
   "source": [
    "We are now going to find the k-nearest restaurants to a given restaurant based on the database of similarities that we calculated. But we have a problem.\n",
    "\n",
    "Consider the two cases where there is just one common reviewer, and where there are 40. In the former case, we might get a artificially high similarity based on the tastes of just this user, and thus we must reduce its importance in the nearest-neighbor calculation. In the latter case, we would get a much more unbiased estimator of the similarity of the two restaurants.\n",
    "\n",
    "To control the effect of small common supports, we can shrink our pearson co-efficients. We shall do this by using the \"regularization\" parameter reg:\n",
    "\n",
    "Recall the notions of regularization introduced in class. We want to reduce the variance in our estimates, so we pull our estimates in toward a conservative point in a way that strongly corrals in estimates when there is very little data, but allows the data to speak when there is a lot. This can be shown as equivalent to adding in a reg amount of bayesian prior, as Joe has alluded to in class.\n",
    "\n",
    "A good value of the regularizer is intuitively one that doesn't affect the similarity when the common support is high ~10, but has a large effect when the support is small. In this case, values of 2-4 are good. Usually, the value of reg is determined using cross-validation, but for the sake of simplicity we will generally set it to 3."
   ]
  },
  {
   "cell_type": "code",
   "execution_count": 39,
   "metadata": {
    "collapsed": true
   },
   "outputs": [],
   "source": [
    "def shrunk_sim(sim, n_common, reg=3.):\n",
    "    \"takes a similarity and shrinks it down by using the regularizer\"\n",
    "    ssim=(n_common*sim)/(n_common+reg)\n",
    "    return ssim"
   ]
  },
  {
   "cell_type": "markdown",
   "metadata": {},
   "source": [
    "Now we can move to writing a knearest function, which finds the k nearest neighbors of a given restaurant based on the shrunk similarities we calculate. Note that as defined here, the nearest neighbors are global over the entire set of restaurants, as opposed to being restricted to the restaurants a user has reviewed(we shall do that in the next problem). Thus, this is an expensive function!\n",
    "\n",
    "Write a knearest that returns a k-length sorted list of 3-tuples each corresponding to a restaurant. The tuple structure is (business_id, shrunken similarity score, common support) where the similarity score and common support are with respect to the restaurant whose neighbors we are finding, and the business_id is the id of the \"nearby\" restaurant found. The nearby restaurants are found from a supplied numpy array of restaurants set_of_restaurants. The spec for the function is given below. HINT: use itemgetter from the operator module to do the sorting."
   ]
  },
  {
   "cell_type": "code",
   "execution_count": 65,
   "metadata": {
    "collapsed": false
   },
   "outputs": [],
   "source": [
    "# knearest\n",
    "\n",
    "# Parameters\n",
    "# ----------\n",
    "# restaurant_id : string\n",
    "#     The id of the restaurant whose nearest neighbors we want\n",
    "# set_of_restaurants : array\n",
    "#     The set of restaurants from which we want to find the nearest neighbors\n",
    "# dbase : instance of Database class.\n",
    "#     A database of similarities, on which the get method can be used to get the similarity\n",
    "#   of two businessed. e.g. dbase.get(rid1,rid2)\n",
    "# k : int\n",
    "#     the number of nearest neighbors desired, default 7\n",
    "# reg: float\n",
    "#     the regularization.\n",
    "    \n",
    "  \n",
    "# Returns\n",
    "# --------\n",
    "# A sorted list\n",
    "#     of the top k similar restaurants. The list is a list of tuples\n",
    "#     (business_id, shrunken similarity, common support).\n",
    "from operator import itemgetter\n",
    "def knearest(rest_id, set_of_restaurants, db, k, reg=3):\n",
    "    simi=[]\n",
    "    for r in set_of_restaurants:\n",
    "        if r != rest_id:\n",
    "            si,cs = db.get(rest_id, r)\n",
    "            sim = shrunk_sim(si,cs, reg=reg)\n",
    "            simi.append((r,sim,cs))\n",
    "    simi=sorted(simi, key=itemgetter(1), reverse=True)       \n",
    "    return simi[0:k]"
   ]
  },
  {
   "cell_type": "markdown",
   "metadata": {},
   "source": [
    "Ok it's time to recommend!\n",
    "Lets choose the two very different businesses in the dataframe"
   ]
  },
  {
   "cell_type": "code",
   "execution_count": 66,
   "metadata": {
    "collapsed": true
   },
   "outputs": [],
   "source": [
    "testbizid=\"eIxSLxzIlfExI6vgAbn2JA\"\n",
    "testbizid2=\"L-uPZxooP_ziXCtRrWi8Pw\""
   ]
  },
  {
   "cell_type": "code",
   "execution_count": 67,
   "metadata": {
    "collapsed": true
   },
   "outputs": [],
   "source": [
    "# We provide functions to look up a business name given a business id, and a username given a user id.\n",
    "def biznamefromid(df, theid):\n",
    "    return df['biz_name'][df['business_id']==theid].values[0]\n",
    "def usernamefromid(df, theid):\n",
    "    return df['user_name'][df['user_id']==theid].values[0]"
   ]
  },
  {
   "cell_type": "code",
   "execution_count": 68,
   "metadata": {
    "collapsed": false
   },
   "outputs": [
    {
     "name": "stdout",
     "output_type": "stream",
     "text": [
      "eIxSLxzIlfExI6vgAbn2JA Lobbys Beef Burgers Dogs\n",
      "L-uPZxooP_ziXCtRrWi8Pw Café Monarch\n"
     ]
    }
   ],
   "source": [
    "print testbizid, biznamefromid(smalldf,testbizid)\n",
    "print testbizid2, biznamefromid(smalldf, testbizid2)"
   ]
  },
  {
   "cell_type": "markdown",
   "metadata": {},
   "source": [
    "##Get top matches\n",
    "Its now time to answer the question: \"if you liked this, you might also like these\". We use our testbizid and testbizid2 to compute the k=7 nearest neighbors with a regularization of 3. . We print these top 7 matches names, along with their similarity coefficient and common support."
   ]
  },
  {
   "cell_type": "code",
   "execution_count": 69,
   "metadata": {
    "collapsed": false
   },
   "outputs": [
    {
     "name": "stdout",
     "output_type": "stream",
     "text": [
      "For  Lobbys Beef Burgers Dogs , top matches are:\n",
      "0 La Condesa Gourmet Taco Shop | Sim 0.598714448434 | Support 6\n",
      "1 Citizen Public House | Sim 0.571428571429 | Support 4\n",
      "2 FnB | Sim 0.527129890943 | Support 5\n",
      "3 Defalco's Italian Grocery | Sim 0.519456555658 | Support 6\n",
      "4 Republic Ramen + Noodles | Sim 0.519140146937 | Support 5\n",
      "5 unPhogettable | Sim 0.5 | Support 3\n",
      "6 Haus Murphy's | Sim 0.467637235308 | Support 3\n"
     ]
    }
   ],
   "source": [
    "tops=knearest(testbizid, smalldf.business_id.unique(), db, k=7, reg=3.)\n",
    "print \"For \",biznamefromid(smalldf, testbizid), \", top matches are:\"\n",
    "for i, (biz_id, sim, nc) in enumerate(tops):\n",
    "    print i,biznamefromid(smalldf,biz_id), \"| Sim\", sim, \"| Support\",nc"
   ]
  },
  {
   "cell_type": "code",
   "execution_count": 70,
   "metadata": {
    "collapsed": false
   },
   "outputs": [
    {
     "name": "stdout",
     "output_type": "stream",
     "text": [
      "For  Café Monarch , top matches are:\n",
      "0 Postino Arcadia | Sim 0.625 | Support 5\n",
      "1 The Main Ingredient Ale House And Café | Sim 0.571428571429 | Support 4\n",
      "2 Brio Tuscan Grille | Sim 0.571428571429 | Support 4\n",
      "3 Kazimierz World Wine Bar | Sim 0.5 | Support 3\n",
      "4 Harlow's Cafe | Sim 0.5 | Support 3\n",
      "5 The Fry Bread House | Sim 0.5 | Support 3\n",
      "6 Cien Agaves Tacos & Tequila | Sim 0.5 | Support 3\n"
     ]
    }
   ],
   "source": [
    "tops2=knearest(testbizid2, smalldf.business_id.unique(), db, k=7, reg=3.)\n",
    "print \"For \",biznamefromid(smalldf, testbizid2), \", top matches are:\"\n",
    "for i, (biz_id, sim, nc) in enumerate(tops2):\n",
    "    print i,biznamefromid(smalldf,biz_id), \"| Sim\", sim, \"| Support\",nc"
   ]
  },
  {
   "cell_type": "markdown",
   "metadata": {},
   "source": [
    "Lets now turn our attention to another question: what are the top recommendations for a user? To answer this we must find the user's top rated restaurants, find the nearest neighbors of these restaurants, merge these lists while removing the duplicates and the ones that the user has already rated, and sort by the restaurant's average rating. We provide the code to get the user's top choices in a subset data frame."
   ]
  },
  {
   "cell_type": "code",
   "execution_count": 71,
   "metadata": {
    "collapsed": false
   },
   "outputs": [
    {
     "name": "stdout",
     "output_type": "stream",
     "text": [
      "For user Vern top choices are:\n"
     ]
    },
    {
     "data": {
      "text/plain": [
       "['Tee Pee Mexican Food',\n",
       " 'Local Breeze',\n",
       " \"Carly's Bistro\",\n",
       " 'District American Kitchen and Wine Bar',\n",
       " 'Sonora Mesquite Grill']"
      ]
     },
     "execution_count": 71,
     "metadata": {},
     "output_type": "execute_result"
    }
   ],
   "source": [
    "def get_user_top_choices(user_id, df, numchoices=5):\n",
    "    \"get the sorted top 5 restaurants for a user by the star rating the user gave them\"\n",
    "    udf=df[df.user_id==user_id][['business_id','stars']].sort(['stars'], ascending=False).head(numchoices)\n",
    "    return udf\n",
    "testuserid=\"7cR92zkDv4W3kqzii6axvg\"\n",
    "print \"For user\", usernamefromid(smalldf,testuserid), \"top choices are:\" \n",
    "bizs=get_user_top_choices(testuserid, smalldf)['business_id'].values\n",
    "[biznamefromid(smalldf, biz_id) for biz_id in bizs]"
   ]
  },
  {
   "cell_type": "code",
   "execution_count": 72,
   "metadata": {
    "collapsed": false
   },
   "outputs": [
    {
     "data": {
      "text/html": [
       "<div style=\"max-height:1000px;max-width:1500px;overflow:auto;\">\n",
       "<table border=\"1\" class=\"dataframe\">\n",
       "  <thead>\n",
       "    <tr style=\"text-align: right;\">\n",
       "      <th></th>\n",
       "      <th>business_id</th>\n",
       "      <th>stars</th>\n",
       "    </tr>\n",
       "  </thead>\n",
       "  <tbody>\n",
       "    <tr>\n",
       "      <th>5201</th>\n",
       "      <td> soiGohHtWOltGeomkSxzEw</td>\n",
       "      <td> 5</td>\n",
       "    </tr>\n",
       "    <tr>\n",
       "      <th>5056</th>\n",
       "      <td> GAPqG0WNBBidKeZTMpEZ-w</td>\n",
       "      <td> 5</td>\n",
       "    </tr>\n",
       "    <tr>\n",
       "      <th>3583</th>\n",
       "      <td> zmFc8M-hS4uuyY0hklIpoQ</td>\n",
       "      <td> 5</td>\n",
       "    </tr>\n",
       "    <tr>\n",
       "      <th>26  </th>\n",
       "      <td> 9ziO3NpoNTKHvIKCBFB_fQ</td>\n",
       "      <td> 4</td>\n",
       "    </tr>\n",
       "    <tr>\n",
       "      <th>4670</th>\n",
       "      <td> KGX7O-_WqOIy9o7u9NOa9A</td>\n",
       "      <td> 4</td>\n",
       "    </tr>\n",
       "  </tbody>\n",
       "</table>\n",
       "</div>"
      ],
      "text/plain": [
       "                 business_id  stars\n",
       "5201  soiGohHtWOltGeomkSxzEw      5\n",
       "5056  GAPqG0WNBBidKeZTMpEZ-w      5\n",
       "3583  zmFc8M-hS4uuyY0hklIpoQ      5\n",
       "26    9ziO3NpoNTKHvIKCBFB_fQ      4\n",
       "4670  KGX7O-_WqOIy9o7u9NOa9A      4"
      ]
     },
     "execution_count": 72,
     "metadata": {},
     "output_type": "execute_result"
    }
   ],
   "source": [
    "uudf=get_user_top_choices(\"7cR92zkDv4W3kqzii6axvg\", smalldf, numchoices=5)\n",
    "uudf"
   ]
  },
  {
   "cell_type": "markdown",
   "metadata": {},
   "source": [
    "##Get top recommendations for user.\n",
    "1.7 Its your job now to write a function get_top_recos_for_user which takes as arguments a userid, the n top choices for the user, the dataframe, k, and a regularizer, and returns the top recommendations obtained from combining the restaurants that are neighbors of each of the n choices, in the way described in the previous paragraph. This returned list is a list of tuples (restaurant_id, business_avg) sorted by business_avg where business_avg is the average rating of the restaurant over the dataframe."
   ]
  },
  {
   "cell_type": "code",
   "execution_count": 122,
   "metadata": {
    "collapsed": true
   },
   "outputs": [],
   "source": [
    "# Function\n",
    "# --------\n",
    "# get_top_recos_for_user\n",
    "\n",
    "# Parameters\n",
    "# ----------\n",
    "# userid : string\n",
    "#     The id of the user for whom we want the top recommendations\n",
    "# df : Dataframe\n",
    "#     The dataframe of restaurant reviews such as smalldf\n",
    "# dbase : instance of Database class.\n",
    "#     A database of similarities, on which the get method can be used to get the similarity\n",
    "#   of two businesses. e.g. dbase.get(rid1,rid2)\n",
    "# n: int\n",
    "#     the n top choices of the user by star rating\n",
    "# k : int\n",
    "#     the number of nearest neighbors desired, default 8\n",
    "# reg: float\n",
    "#     the regularization.\n",
    "    \n",
    "  \n",
    "# Returns\n",
    "# --------\n",
    "# A sorted list\n",
    "#     of the top recommendations. The list is a list of tuples\n",
    "#     (business_id, business_avg). You are combining the k-nearest recommendations \n",
    "#     for each of the user's n top choices, removing duplicates and the ones the user\n",
    "#     has already rated.\n",
    "\n",
    "def get_top_recos_for_user(userid, df, dbase, n=5, k=7, reg=3.):\n",
    "    bizs=get_user_top_choices(userid, df, numchoices=n)['business_id'].values\n",
    "    rated_by_user=df[df.user_id==userid].business_id.values\n",
    "    tops=[]\n",
    "    for ele in bizs:\n",
    "        t=knearest(ele, df.business_id.unique(), dbase, k=k, reg=reg)\n",
    "        for e in t:\n",
    "            if e[0] not in rated_by_user:\n",
    "                tops.append(e)\n",
    "\n",
    "    #there might be repeats. unique it\n",
    "    ids=[e[0] for e in tops]\n",
    "    uids={k:0 for k in list(set(ids))}\n",
    "\n",
    "    topsu=[]\n",
    "    for e in tops:\n",
    "        if uids[e[0]] == 0:\n",
    "            topsu.append(e)\n",
    "            uids[e[0]] =1\n",
    "    topsr=[]     \n",
    "    for r, s,nc in topsu:\n",
    "        avg_rate=df[df.business_id==r].stars.mean()\n",
    "        topsr.append((r,avg_rate))\n",
    "        \n",
    "    topsr=sorted(topsr, key=itemgetter(1), reverse=True)\n",
    "\n",
    "    if n < len(topsr):\n",
    "        return topsr[0:n]\n",
    "    else:\n",
    "        return topsr"
   ]
  },
  {
   "cell_type": "code",
   "execution_count": 123,
   "metadata": {
    "collapsed": false
   },
   "outputs": [
    {
     "name": "stdout",
     "output_type": "stream",
     "text": [
      "For user Vern the top recommendations are:\n",
      "Rokerij | Average Rating | 4.37931034483\n",
      "Wildfish Seafood Grille | Average Rating | 4.29411764706\n",
      "Defalco's Italian Grocery | Average Rating | 4.23255813953\n",
      "Cornish Pasty Company | Average Rating | 4.20689655172\n",
      "Pappadeaux Seafood Kitchen | Average Rating | 4.18518518519\n"
     ]
    }
   ],
   "source": [
    "print \"For user\", usernamefromid(smalldf,testuserid), \"the top recommendations are:\"\n",
    "toprecos=get_top_recos_for_user(testuserid, smalldf, db, n=5, k=7, reg=3.)\n",
    "for biz_id, biz_avg in toprecos:\n",
    "    print biznamefromid(smalldf,biz_id), \"| Average Rating |\", biz_avg"
   ]
  }
 ],
 "metadata": {
  "kernelspec": {
   "display_name": "Python 2",
   "language": "python",
   "name": "python2"
  },
  "language_info": {
   "codemirror_mode": {
    "name": "ipython",
    "version": 2
   },
   "file_extension": ".py",
   "mimetype": "text/x-python",
   "name": "python",
   "nbconvert_exporter": "python",
   "pygments_lexer": "ipython2",
   "version": "2.7.9"
  }
 },
 "nbformat": 4,
 "nbformat_minor": 0
}
